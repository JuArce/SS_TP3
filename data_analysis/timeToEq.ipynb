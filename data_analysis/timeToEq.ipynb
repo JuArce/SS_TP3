{
 "cells": [
  {
   "cell_type": "code",
   "execution_count": 306,
   "metadata": {
    "collapsed": true
   },
   "outputs": [],
   "source": [
    "import numpy as np\n",
    "import pandas as pd\n",
    "from matplotlib import pyplot as plt"
   ]
  },
  {
   "cell_type": "code",
   "execution_count": 268,
   "outputs": [],
   "source": [
    "files=[f'output_fp_N_50_slot_0.02_iteration_1',f'output_fp_N_50_slot_0.02_iteration_2',f'output_fp_N_50_slot_0.02_iteration_3',\n",
    "       f'output_fp_N_100_slot_0.01_iteration_1',\n",
    "       f'output_fp_N_100_slot_0.01_iteration_2',\n",
    "       f'output_fp_N_100_slot_0.01_iteration_3',\n",
    "       f'output_fp_N_100_slot_0.02_iteration_1',\n",
    "       f'output_fp_N_100_slot_0.02_iteration_2',\n",
    "       f'output_fp_N_100_slot_0.02_iteration_3',\n",
    "       f'output_fp_N_100_slot_0.05_iteration_1',\n",
    "       f'output_fp_N_100_slot_0.05_iteration_2',\n",
    "       f'output_fp_N_100_slot_0.05_iteration_3',\n",
    "       f'output_fp_N_150_slot_0.02_iteration_1',\n",
    "       f'output_fp_N_150_slot_0.02_iteration_2',\n",
    "       f'output_fp_N_150_slot_0.02_iteration_3']"
   ],
   "metadata": {
    "collapsed": false,
    "pycharm": {
     "name": "#%%\n"
    }
   }
  },
  {
   "cell_type": "code",
   "execution_count": 269,
   "outputs": [
    {
     "data": {
      "text/plain": "[               t  output_fp_N_50_slot_0.02_iteration_1\n 0       0.000000                                  0.00\n 1       0.008437                                  0.00\n 2       0.052508                                  0.00\n 3       0.120335                                  0.00\n 4       0.134812                                  0.00\n ...          ...                                   ...\n 2436  224.122646                                  0.46\n 2437  224.196468                                  0.46\n 2438  224.230923                                  0.46\n 2439  224.274103                                  0.46\n 2440  224.447944                                  0.44\n \n [2441 rows x 2 columns],\n                t  output_fp_N_50_slot_0.02_iteration_2\n 0       0.000000                                  0.00\n 1       0.060116                                  0.00\n 2       0.130132                                  0.00\n 3       0.166218                                  0.00\n 4       0.241791                                  0.00\n ...          ...                                   ...\n 5492  528.171260                                  0.46\n 5493  528.257328                                  0.46\n 5494  528.364140                                  0.46\n 5495  528.770047                                  0.46\n 5496  528.943869                                  0.46\n \n [5497 rows x 2 columns],\n                t  output_fp_N_50_slot_0.02_iteration_3\n 0       0.000000                                  0.00\n 1       0.034369                                  0.00\n 2       0.101174                                  0.00\n 3       0.119042                                  0.00\n 4       0.153560                                  0.00\n ...          ...                                   ...\n 3826  348.815717                                  0.58\n 3827  348.959914                                  0.58\n 3828  349.461813                                  0.58\n 3829  349.466503                                  0.58\n 3830  349.533888                                  0.58\n \n [3831 rows x 2 columns],\n                 t  output_fp_N_100_slot_0.01_iteration_1\n 0        0.000000                                   0.00\n 1        0.018554                                   0.00\n 2        0.039895                                   0.00\n 3        0.066027                                   0.00\n 4        0.066689                                   0.00\n ...           ...                                    ...\n 29995  899.105871                                   0.44\n 29996  899.131540                                   0.44\n 29997  899.160959                                   0.44\n 29998  899.161617                                   0.44\n 29999  899.184695                                   0.44\n \n [30000 rows x 2 columns],\n                 t  output_fp_N_100_slot_0.01_iteration_2\n 0        0.000000                                   0.00\n 1        0.007078                                   0.00\n 2        0.025385                                   0.00\n 3        0.035947                                   0.00\n 4        0.070286                                   0.00\n ...           ...                                    ...\n 29995  909.410193                                   0.49\n 29996  909.410563                                   0.49\n 29997  909.439527                                   0.49\n 29998  909.531825                                   0.50\n 29999  909.548904                                   0.50\n \n [30000 rows x 2 columns],\n                 t  output_fp_N_100_slot_0.01_iteration_3\n 0        0.000000                                   0.00\n 1        0.007078                                   0.00\n 2        0.025385                                   0.00\n 3        0.035947                                   0.00\n 4        0.070286                                   0.00\n ...           ...                                    ...\n 29995  909.410193                                   0.49\n 29996  909.410563                                   0.49\n 29997  909.439527                                   0.49\n 29998  909.531825                                   0.50\n 29999  909.548904                                   0.50\n \n [30000 rows x 2 columns],\n                 t  output_fp_N_100_slot_0.02_iteration_1\n 0        0.000000                                   0.00\n 1        0.013595                                   0.00\n 2        0.036941                                   0.00\n 3        0.080913                                   0.00\n 4        0.093611                                   0.00\n ...           ...                                    ...\n 19526  608.680223                                   0.44\n 19527  608.686457                                   0.44\n 19528  608.725244                                   0.44\n 19529  608.735164                                   0.44\n 19530  608.813281                                   0.44\n \n [19531 rows x 2 columns],\n                 t  output_fp_N_100_slot_0.02_iteration_2\n 0        0.000000                                   0.00\n 1        0.014676                                   0.00\n 2        0.031434                                   0.00\n 3        0.057619                                   0.00\n 4        0.146688                                   0.00\n ...           ...                                    ...\n 11147  342.782864                                   0.49\n 11148  342.796158                                   0.49\n 11149  342.799997                                   0.49\n 11150  342.851885                                   0.49\n 11151  342.897987                                   0.49\n \n [11152 rows x 2 columns],\n                 t  output_fp_N_100_slot_0.02_iteration_3\n 0        0.000000                                   0.00\n 1        0.014676                                   0.00\n 2        0.031434                                   0.00\n 3        0.057619                                   0.00\n 4        0.146688                                   0.00\n ...           ...                                    ...\n 11147  342.782864                                   0.49\n 11148  342.796158                                   0.49\n 11149  342.799997                                   0.49\n 11150  342.851885                                   0.49\n 11151  342.897987                                   0.49\n \n [11152 rows x 2 columns],\n               t  output_fp_N_100_slot_0.05_iteration_1\n 0      0.000000                                   0.00\n 1      0.009327                                   0.00\n 2      0.042178                                   0.00\n 3      0.044939                                   0.00\n 4      0.062114                                   0.00\n ...         ...                                    ...\n 2437  75.269816                                   0.46\n 2438  75.290847                                   0.46\n 2439  75.323736                                   0.46\n 2440  75.454272                                   0.45\n 2441  75.547795                                   0.45\n \n [2442 rows x 2 columns],\n                t  output_fp_N_100_slot_0.05_iteration_2\n 0       0.000000                                    0.0\n 1       0.008179                                    0.0\n 2       0.033690                                    0.0\n 3       0.045947                                    0.0\n 4       0.048519                                    0.0\n ...          ...                                    ...\n 5174  170.337323                                    0.5\n 5175  170.353742                                    0.5\n 5176  170.366698                                    0.5\n 5177  170.388276                                    0.5\n 5178  170.458289                                    0.5\n \n [5179 rows x 2 columns],\n                t  output_fp_N_100_slot_0.05_iteration_3\n 0       0.000000                                    0.0\n 1       0.008179                                    0.0\n 2       0.033690                                    0.0\n 3       0.045947                                    0.0\n 4       0.048519                                    0.0\n ...          ...                                    ...\n 5174  170.337323                                    0.5\n 5175  170.353742                                    0.5\n 5176  170.366698                                    0.5\n 5177  170.388276                                    0.5\n 5178  170.458289                                    0.5\n \n [5179 rows x 2 columns],\n                 t  output_fp_N_150_slot_0.02_iteration_1\n 0        0.000000                               0.000000\n 1        0.000104                               0.000000\n 2        0.006550                               0.000000\n 3        0.006670                               0.000000\n 4        0.009582                               0.000000\n ...           ...                                    ...\n 28370  431.279878                               0.406667\n 28371  431.305470                               0.406667\n 28372  431.320058                               0.406667\n 28373  431.327896                               0.406667\n 28374  431.345683                               0.406667\n \n [28375 rows x 2 columns],\n                 t  output_fp_N_150_slot_0.02_iteration_2\n 0        0.000000                               0.000000\n 1        0.016242                               0.000000\n 2        0.018792                               0.000000\n 3        0.033196                               0.000000\n 4        0.036909                               0.000000\n ...           ...                                    ...\n 26190  392.107414                               0.446667\n 26191  392.112689                               0.446667\n 26192  392.156861                               0.446667\n 26193  392.157533                               0.446667\n 26194  392.166062                               0.446667\n \n [26195 rows x 2 columns],\n                 t  output_fp_N_150_slot_0.02_iteration_3\n 0        0.000000                               0.000000\n 1        0.007432                               0.000000\n 2        0.015620                               0.000000\n 3        0.016141                               0.000000\n 4        0.016183                               0.000000\n ...           ...                                    ...\n 29995  450.345203                               0.493333\n 29996  450.386711                               0.493333\n 29997  450.404367                               0.493333\n 29998  450.418592                               0.493333\n 29999  450.426721                               0.493333\n \n [30000 rows x 2 columns]]"
     },
     "execution_count": 269,
     "metadata": {},
     "output_type": "execute_result"
    }
   ],
   "source": [
    "data = []\n",
    "#../src/main/resources/output/fp/iterations/\n",
    "for file in files:\n",
    "    aux = pd.read_csv(f'../src/main/resources/output/fp/iterations/{file}.csv')\n",
    "    aux = aux.rename(columns={'fp':file})\n",
    "    data.append(aux)\n",
    "data"
   ],
   "metadata": {
    "collapsed": false,
    "pycharm": {
     "name": "#%%\n"
    }
   }
  },
  {
   "cell_type": "code",
   "execution_count": 270,
   "outputs": [
    {
     "data": {
      "text/plain": "['t',\n 'output_fp_N_50_slot_0.02_iteration_1',\n 'output_fp_N_50_slot_0.02_iteration_2',\n 'output_fp_N_50_slot_0.02_iteration_3',\n 'output_fp_N_100_slot_0.01_iteration_1',\n 'output_fp_N_100_slot_0.01_iteration_2',\n 'output_fp_N_100_slot_0.01_iteration_3',\n 'output_fp_N_100_slot_0.02_iteration_1',\n 'output_fp_N_100_slot_0.02_iteration_2',\n 'output_fp_N_100_slot_0.02_iteration_3',\n 'output_fp_N_100_slot_0.05_iteration_1',\n 'output_fp_N_100_slot_0.05_iteration_2',\n 'output_fp_N_100_slot_0.05_iteration_3',\n 'output_fp_N_150_slot_0.02_iteration_1',\n 'output_fp_N_150_slot_0.02_iteration_2',\n 'output_fp_N_150_slot_0.02_iteration_3']"
     },
     "execution_count": 270,
     "metadata": {},
     "output_type": "execute_result"
    }
   ],
   "source": [
    "columns = ['t']\n",
    "for file in files:\n",
    "    columns.append(file)\n",
    "columns"
   ],
   "metadata": {
    "collapsed": false,
    "pycharm": {
     "name": "#%%\n"
    }
   }
  },
  {
   "cell_type": "code",
   "execution_count": 271,
   "outputs": [],
   "source": [
    "final_data = pd.concat(data,axis=0, ignore_index=True)"
   ],
   "metadata": {
    "collapsed": false,
    "pycharm": {
     "name": "#%%\n"
    }
   }
  },
  {
   "cell_type": "code",
   "execution_count": 272,
   "outputs": [
    {
     "data": {
      "text/plain": "            output_fp_N_50_slot_0.02_iteration_1  \\\nt                                                  \n0.000000                                     0.0   \n0.008437                                     0.0   \n0.052508                                     0.0   \n0.120335                                     0.0   \n0.134812                                     0.0   \n...                                          ...   \n450.345203                                   NaN   \n450.386711                                   NaN   \n450.404367                                   NaN   \n450.418592                                   NaN   \n450.426721                                   NaN   \n\n            output_fp_N_50_slot_0.02_iteration_2  \\\nt                                                  \n0.000000                                     NaN   \n0.008437                                     NaN   \n0.052508                                     NaN   \n0.120335                                     NaN   \n0.134812                                     NaN   \n...                                          ...   \n450.345203                                   NaN   \n450.386711                                   NaN   \n450.404367                                   NaN   \n450.418592                                   NaN   \n450.426721                                   NaN   \n\n            output_fp_N_50_slot_0.02_iteration_3  \\\nt                                                  \n0.000000                                     NaN   \n0.008437                                     NaN   \n0.052508                                     NaN   \n0.120335                                     NaN   \n0.134812                                     NaN   \n...                                          ...   \n450.345203                                   NaN   \n450.386711                                   NaN   \n450.404367                                   NaN   \n450.418592                                   NaN   \n450.426721                                   NaN   \n\n            output_fp_N_100_slot_0.01_iteration_1  \\\nt                                                   \n0.000000                                      NaN   \n0.008437                                      NaN   \n0.052508                                      NaN   \n0.120335                                      NaN   \n0.134812                                      NaN   \n...                                           ...   \n450.345203                                    NaN   \n450.386711                                    NaN   \n450.404367                                    NaN   \n450.418592                                    NaN   \n450.426721                                    NaN   \n\n            output_fp_N_100_slot_0.01_iteration_2  \\\nt                                                   \n0.000000                                      NaN   \n0.008437                                      NaN   \n0.052508                                      NaN   \n0.120335                                      NaN   \n0.134812                                      NaN   \n...                                           ...   \n450.345203                                    NaN   \n450.386711                                    NaN   \n450.404367                                    NaN   \n450.418592                                    NaN   \n450.426721                                    NaN   \n\n            output_fp_N_100_slot_0.01_iteration_3  \\\nt                                                   \n0.000000                                      NaN   \n0.008437                                      NaN   \n0.052508                                      NaN   \n0.120335                                      NaN   \n0.134812                                      NaN   \n...                                           ...   \n450.345203                                    NaN   \n450.386711                                    NaN   \n450.404367                                    NaN   \n450.418592                                    NaN   \n450.426721                                    NaN   \n\n            output_fp_N_100_slot_0.02_iteration_1  \\\nt                                                   \n0.000000                                      NaN   \n0.008437                                      NaN   \n0.052508                                      NaN   \n0.120335                                      NaN   \n0.134812                                      NaN   \n...                                           ...   \n450.345203                                    NaN   \n450.386711                                    NaN   \n450.404367                                    NaN   \n450.418592                                    NaN   \n450.426721                                    NaN   \n\n            output_fp_N_100_slot_0.02_iteration_2  \\\nt                                                   \n0.000000                                      NaN   \n0.008437                                      NaN   \n0.052508                                      NaN   \n0.120335                                      NaN   \n0.134812                                      NaN   \n...                                           ...   \n450.345203                                    NaN   \n450.386711                                    NaN   \n450.404367                                    NaN   \n450.418592                                    NaN   \n450.426721                                    NaN   \n\n            output_fp_N_100_slot_0.02_iteration_3  \\\nt                                                   \n0.000000                                      NaN   \n0.008437                                      NaN   \n0.052508                                      NaN   \n0.120335                                      NaN   \n0.134812                                      NaN   \n...                                           ...   \n450.345203                                    NaN   \n450.386711                                    NaN   \n450.404367                                    NaN   \n450.418592                                    NaN   \n450.426721                                    NaN   \n\n            output_fp_N_100_slot_0.05_iteration_1  \\\nt                                                   \n0.000000                                      NaN   \n0.008437                                      NaN   \n0.052508                                      NaN   \n0.120335                                      NaN   \n0.134812                                      NaN   \n...                                           ...   \n450.345203                                    NaN   \n450.386711                                    NaN   \n450.404367                                    NaN   \n450.418592                                    NaN   \n450.426721                                    NaN   \n\n            output_fp_N_100_slot_0.05_iteration_2  \\\nt                                                   \n0.000000                                      NaN   \n0.008437                                      NaN   \n0.052508                                      NaN   \n0.120335                                      NaN   \n0.134812                                      NaN   \n...                                           ...   \n450.345203                                    NaN   \n450.386711                                    NaN   \n450.404367                                    NaN   \n450.418592                                    NaN   \n450.426721                                    NaN   \n\n            output_fp_N_100_slot_0.05_iteration_3  \\\nt                                                   \n0.000000                                      NaN   \n0.008437                                      NaN   \n0.052508                                      NaN   \n0.120335                                      NaN   \n0.134812                                      NaN   \n...                                           ...   \n450.345203                                    NaN   \n450.386711                                    NaN   \n450.404367                                    NaN   \n450.418592                                    NaN   \n450.426721                                    NaN   \n\n            output_fp_N_150_slot_0.02_iteration_1  \\\nt                                                   \n0.000000                                      NaN   \n0.008437                                      NaN   \n0.052508                                      NaN   \n0.120335                                      NaN   \n0.134812                                      NaN   \n...                                           ...   \n450.345203                                    NaN   \n450.386711                                    NaN   \n450.404367                                    NaN   \n450.418592                                    NaN   \n450.426721                                    NaN   \n\n            output_fp_N_150_slot_0.02_iteration_2  \\\nt                                                   \n0.000000                                      NaN   \n0.008437                                      NaN   \n0.052508                                      NaN   \n0.120335                                      NaN   \n0.134812                                      NaN   \n...                                           ...   \n450.345203                                    NaN   \n450.386711                                    NaN   \n450.404367                                    NaN   \n450.418592                                    NaN   \n450.426721                                    NaN   \n\n            output_fp_N_150_slot_0.02_iteration_3  \nt                                                  \n0.000000                                      NaN  \n0.008437                                      NaN  \n0.052508                                      NaN  \n0.120335                                      NaN  \n0.134812                                      NaN  \n...                                           ...  \n450.345203                               0.493333  \n450.386711                               0.493333  \n450.404367                               0.493333  \n450.418592                               0.493333  \n450.426721                               0.493333  \n\n[240974 rows x 15 columns]",
      "text/html": "<div>\n<style scoped>\n    .dataframe tbody tr th:only-of-type {\n        vertical-align: middle;\n    }\n\n    .dataframe tbody tr th {\n        vertical-align: top;\n    }\n\n    .dataframe thead th {\n        text-align: right;\n    }\n</style>\n<table border=\"1\" class=\"dataframe\">\n  <thead>\n    <tr style=\"text-align: right;\">\n      <th></th>\n      <th>output_fp_N_50_slot_0.02_iteration_1</th>\n      <th>output_fp_N_50_slot_0.02_iteration_2</th>\n      <th>output_fp_N_50_slot_0.02_iteration_3</th>\n      <th>output_fp_N_100_slot_0.01_iteration_1</th>\n      <th>output_fp_N_100_slot_0.01_iteration_2</th>\n      <th>output_fp_N_100_slot_0.01_iteration_3</th>\n      <th>output_fp_N_100_slot_0.02_iteration_1</th>\n      <th>output_fp_N_100_slot_0.02_iteration_2</th>\n      <th>output_fp_N_100_slot_0.02_iteration_3</th>\n      <th>output_fp_N_100_slot_0.05_iteration_1</th>\n      <th>output_fp_N_100_slot_0.05_iteration_2</th>\n      <th>output_fp_N_100_slot_0.05_iteration_3</th>\n      <th>output_fp_N_150_slot_0.02_iteration_1</th>\n      <th>output_fp_N_150_slot_0.02_iteration_2</th>\n      <th>output_fp_N_150_slot_0.02_iteration_3</th>\n    </tr>\n    <tr>\n      <th>t</th>\n      <th></th>\n      <th></th>\n      <th></th>\n      <th></th>\n      <th></th>\n      <th></th>\n      <th></th>\n      <th></th>\n      <th></th>\n      <th></th>\n      <th></th>\n      <th></th>\n      <th></th>\n      <th></th>\n      <th></th>\n    </tr>\n  </thead>\n  <tbody>\n    <tr>\n      <th>0.000000</th>\n      <td>0.0</td>\n      <td>NaN</td>\n      <td>NaN</td>\n      <td>NaN</td>\n      <td>NaN</td>\n      <td>NaN</td>\n      <td>NaN</td>\n      <td>NaN</td>\n      <td>NaN</td>\n      <td>NaN</td>\n      <td>NaN</td>\n      <td>NaN</td>\n      <td>NaN</td>\n      <td>NaN</td>\n      <td>NaN</td>\n    </tr>\n    <tr>\n      <th>0.008437</th>\n      <td>0.0</td>\n      <td>NaN</td>\n      <td>NaN</td>\n      <td>NaN</td>\n      <td>NaN</td>\n      <td>NaN</td>\n      <td>NaN</td>\n      <td>NaN</td>\n      <td>NaN</td>\n      <td>NaN</td>\n      <td>NaN</td>\n      <td>NaN</td>\n      <td>NaN</td>\n      <td>NaN</td>\n      <td>NaN</td>\n    </tr>\n    <tr>\n      <th>0.052508</th>\n      <td>0.0</td>\n      <td>NaN</td>\n      <td>NaN</td>\n      <td>NaN</td>\n      <td>NaN</td>\n      <td>NaN</td>\n      <td>NaN</td>\n      <td>NaN</td>\n      <td>NaN</td>\n      <td>NaN</td>\n      <td>NaN</td>\n      <td>NaN</td>\n      <td>NaN</td>\n      <td>NaN</td>\n      <td>NaN</td>\n    </tr>\n    <tr>\n      <th>0.120335</th>\n      <td>0.0</td>\n      <td>NaN</td>\n      <td>NaN</td>\n      <td>NaN</td>\n      <td>NaN</td>\n      <td>NaN</td>\n      <td>NaN</td>\n      <td>NaN</td>\n      <td>NaN</td>\n      <td>NaN</td>\n      <td>NaN</td>\n      <td>NaN</td>\n      <td>NaN</td>\n      <td>NaN</td>\n      <td>NaN</td>\n    </tr>\n    <tr>\n      <th>0.134812</th>\n      <td>0.0</td>\n      <td>NaN</td>\n      <td>NaN</td>\n      <td>NaN</td>\n      <td>NaN</td>\n      <td>NaN</td>\n      <td>NaN</td>\n      <td>NaN</td>\n      <td>NaN</td>\n      <td>NaN</td>\n      <td>NaN</td>\n      <td>NaN</td>\n      <td>NaN</td>\n      <td>NaN</td>\n      <td>NaN</td>\n    </tr>\n    <tr>\n      <th>...</th>\n      <td>...</td>\n      <td>...</td>\n      <td>...</td>\n      <td>...</td>\n      <td>...</td>\n      <td>...</td>\n      <td>...</td>\n      <td>...</td>\n      <td>...</td>\n      <td>...</td>\n      <td>...</td>\n      <td>...</td>\n      <td>...</td>\n      <td>...</td>\n      <td>...</td>\n    </tr>\n    <tr>\n      <th>450.345203</th>\n      <td>NaN</td>\n      <td>NaN</td>\n      <td>NaN</td>\n      <td>NaN</td>\n      <td>NaN</td>\n      <td>NaN</td>\n      <td>NaN</td>\n      <td>NaN</td>\n      <td>NaN</td>\n      <td>NaN</td>\n      <td>NaN</td>\n      <td>NaN</td>\n      <td>NaN</td>\n      <td>NaN</td>\n      <td>0.493333</td>\n    </tr>\n    <tr>\n      <th>450.386711</th>\n      <td>NaN</td>\n      <td>NaN</td>\n      <td>NaN</td>\n      <td>NaN</td>\n      <td>NaN</td>\n      <td>NaN</td>\n      <td>NaN</td>\n      <td>NaN</td>\n      <td>NaN</td>\n      <td>NaN</td>\n      <td>NaN</td>\n      <td>NaN</td>\n      <td>NaN</td>\n      <td>NaN</td>\n      <td>0.493333</td>\n    </tr>\n    <tr>\n      <th>450.404367</th>\n      <td>NaN</td>\n      <td>NaN</td>\n      <td>NaN</td>\n      <td>NaN</td>\n      <td>NaN</td>\n      <td>NaN</td>\n      <td>NaN</td>\n      <td>NaN</td>\n      <td>NaN</td>\n      <td>NaN</td>\n      <td>NaN</td>\n      <td>NaN</td>\n      <td>NaN</td>\n      <td>NaN</td>\n      <td>0.493333</td>\n    </tr>\n    <tr>\n      <th>450.418592</th>\n      <td>NaN</td>\n      <td>NaN</td>\n      <td>NaN</td>\n      <td>NaN</td>\n      <td>NaN</td>\n      <td>NaN</td>\n      <td>NaN</td>\n      <td>NaN</td>\n      <td>NaN</td>\n      <td>NaN</td>\n      <td>NaN</td>\n      <td>NaN</td>\n      <td>NaN</td>\n      <td>NaN</td>\n      <td>0.493333</td>\n    </tr>\n    <tr>\n      <th>450.426721</th>\n      <td>NaN</td>\n      <td>NaN</td>\n      <td>NaN</td>\n      <td>NaN</td>\n      <td>NaN</td>\n      <td>NaN</td>\n      <td>NaN</td>\n      <td>NaN</td>\n      <td>NaN</td>\n      <td>NaN</td>\n      <td>NaN</td>\n      <td>NaN</td>\n      <td>NaN</td>\n      <td>NaN</td>\n      <td>0.493333</td>\n    </tr>\n  </tbody>\n</table>\n<p>240974 rows × 15 columns</p>\n</div>"
     },
     "execution_count": 272,
     "metadata": {},
     "output_type": "execute_result"
    }
   ],
   "source": [
    "final_data.set_index('t')"
   ],
   "metadata": {
    "collapsed": false,
    "pycharm": {
     "name": "#%%\n"
    }
   }
  },
  {
   "cell_type": "code",
   "execution_count": 273,
   "outputs": [],
   "source": [
    "final_data = final_data.sort_values(by='t')"
   ],
   "metadata": {
    "collapsed": false,
    "pycharm": {
     "name": "#%%\n"
    }
   }
  },
  {
   "cell_type": "code",
   "execution_count": 274,
   "outputs": [],
   "source": [
    "final_data = final_data.set_index('t').groupby(level=0,dropna=False).sum(min_count=1)"
   ],
   "metadata": {
    "collapsed": false,
    "pycharm": {
     "name": "#%%\n"
    }
   }
  },
  {
   "cell_type": "code",
   "execution_count": 275,
   "outputs": [
    {
     "data": {
      "text/plain": "            output_fp_N_50_slot_0.02_iteration_1  \\\nt                                                  \n0.000000                                     0.0   \n0.000104                                     NaN   \n0.006550                                     NaN   \n0.006670                                     NaN   \n0.007078                                     NaN   \n...                                          ...   \n909.410193                                   NaN   \n909.410563                                   NaN   \n909.439527                                   NaN   \n909.531825                                   NaN   \n909.548904                                   NaN   \n\n            output_fp_N_50_slot_0.02_iteration_2  \\\nt                                                  \n0.000000                                     0.0   \n0.000104                                     NaN   \n0.006550                                     NaN   \n0.006670                                     NaN   \n0.007078                                     NaN   \n...                                          ...   \n909.410193                                   NaN   \n909.410563                                   NaN   \n909.439527                                   NaN   \n909.531825                                   NaN   \n909.548904                                   NaN   \n\n            output_fp_N_50_slot_0.02_iteration_3  \\\nt                                                  \n0.000000                                     0.0   \n0.000104                                     NaN   \n0.006550                                     NaN   \n0.006670                                     NaN   \n0.007078                                     NaN   \n...                                          ...   \n909.410193                                   NaN   \n909.410563                                   NaN   \n909.439527                                   NaN   \n909.531825                                   NaN   \n909.548904                                   NaN   \n\n            output_fp_N_100_slot_0.01_iteration_1  \\\nt                                                   \n0.000000                                      0.0   \n0.000104                                      NaN   \n0.006550                                      NaN   \n0.006670                                      NaN   \n0.007078                                      NaN   \n...                                           ...   \n909.410193                                    NaN   \n909.410563                                    NaN   \n909.439527                                    NaN   \n909.531825                                    NaN   \n909.548904                                    NaN   \n\n            output_fp_N_100_slot_0.01_iteration_2  \\\nt                                                   \n0.000000                                     0.00   \n0.000104                                      NaN   \n0.006550                                      NaN   \n0.006670                                      NaN   \n0.007078                                     0.00   \n...                                           ...   \n909.410193                                   0.49   \n909.410563                                   0.49   \n909.439527                                   0.49   \n909.531825                                   0.50   \n909.548904                                   0.50   \n\n            output_fp_N_100_slot_0.01_iteration_3  \\\nt                                                   \n0.000000                                     0.00   \n0.000104                                      NaN   \n0.006550                                      NaN   \n0.006670                                      NaN   \n0.007078                                     0.00   \n...                                           ...   \n909.410193                                   0.49   \n909.410563                                   0.49   \n909.439527                                   0.49   \n909.531825                                   0.50   \n909.548904                                   0.50   \n\n            output_fp_N_100_slot_0.02_iteration_1  \\\nt                                                   \n0.000000                                      0.0   \n0.000104                                      NaN   \n0.006550                                      NaN   \n0.006670                                      NaN   \n0.007078                                      NaN   \n...                                           ...   \n909.410193                                    NaN   \n909.410563                                    NaN   \n909.439527                                    NaN   \n909.531825                                    NaN   \n909.548904                                    NaN   \n\n            output_fp_N_100_slot_0.02_iteration_2  \\\nt                                                   \n0.000000                                      0.0   \n0.000104                                      NaN   \n0.006550                                      NaN   \n0.006670                                      NaN   \n0.007078                                      NaN   \n...                                           ...   \n909.410193                                    NaN   \n909.410563                                    NaN   \n909.439527                                    NaN   \n909.531825                                    NaN   \n909.548904                                    NaN   \n\n            output_fp_N_100_slot_0.02_iteration_3  \\\nt                                                   \n0.000000                                      0.0   \n0.000104                                      NaN   \n0.006550                                      NaN   \n0.006670                                      NaN   \n0.007078                                      NaN   \n...                                           ...   \n909.410193                                    NaN   \n909.410563                                    NaN   \n909.439527                                    NaN   \n909.531825                                    NaN   \n909.548904                                    NaN   \n\n            output_fp_N_100_slot_0.05_iteration_1  \\\nt                                                   \n0.000000                                      0.0   \n0.000104                                      NaN   \n0.006550                                      NaN   \n0.006670                                      NaN   \n0.007078                                      NaN   \n...                                           ...   \n909.410193                                    NaN   \n909.410563                                    NaN   \n909.439527                                    NaN   \n909.531825                                    NaN   \n909.548904                                    NaN   \n\n            output_fp_N_100_slot_0.05_iteration_2  \\\nt                                                   \n0.000000                                      0.0   \n0.000104                                      NaN   \n0.006550                                      NaN   \n0.006670                                      NaN   \n0.007078                                      NaN   \n...                                           ...   \n909.410193                                    NaN   \n909.410563                                    NaN   \n909.439527                                    NaN   \n909.531825                                    NaN   \n909.548904                                    NaN   \n\n            output_fp_N_100_slot_0.05_iteration_3  \\\nt                                                   \n0.000000                                      0.0   \n0.000104                                      NaN   \n0.006550                                      NaN   \n0.006670                                      NaN   \n0.007078                                      NaN   \n...                                           ...   \n909.410193                                    NaN   \n909.410563                                    NaN   \n909.439527                                    NaN   \n909.531825                                    NaN   \n909.548904                                    NaN   \n\n            output_fp_N_150_slot_0.02_iteration_1  \\\nt                                                   \n0.000000                                      0.0   \n0.000104                                      0.0   \n0.006550                                      0.0   \n0.006670                                      0.0   \n0.007078                                      NaN   \n...                                           ...   \n909.410193                                    NaN   \n909.410563                                    NaN   \n909.439527                                    NaN   \n909.531825                                    NaN   \n909.548904                                    NaN   \n\n            output_fp_N_150_slot_0.02_iteration_2  \\\nt                                                   \n0.000000                                      0.0   \n0.000104                                      NaN   \n0.006550                                      NaN   \n0.006670                                      NaN   \n0.007078                                      NaN   \n...                                           ...   \n909.410193                                    NaN   \n909.410563                                    NaN   \n909.439527                                    NaN   \n909.531825                                    NaN   \n909.548904                                    NaN   \n\n            output_fp_N_150_slot_0.02_iteration_3  \nt                                                  \n0.000000                                      0.0  \n0.000104                                      NaN  \n0.006550                                      NaN  \n0.006670                                      NaN  \n0.007078                                      NaN  \n...                                           ...  \n909.410193                                    NaN  \n909.410563                                    NaN  \n909.439527                                    NaN  \n909.531825                                    NaN  \n909.548904                                    NaN  \n\n[194632 rows x 15 columns]",
      "text/html": "<div>\n<style scoped>\n    .dataframe tbody tr th:only-of-type {\n        vertical-align: middle;\n    }\n\n    .dataframe tbody tr th {\n        vertical-align: top;\n    }\n\n    .dataframe thead th {\n        text-align: right;\n    }\n</style>\n<table border=\"1\" class=\"dataframe\">\n  <thead>\n    <tr style=\"text-align: right;\">\n      <th></th>\n      <th>output_fp_N_50_slot_0.02_iteration_1</th>\n      <th>output_fp_N_50_slot_0.02_iteration_2</th>\n      <th>output_fp_N_50_slot_0.02_iteration_3</th>\n      <th>output_fp_N_100_slot_0.01_iteration_1</th>\n      <th>output_fp_N_100_slot_0.01_iteration_2</th>\n      <th>output_fp_N_100_slot_0.01_iteration_3</th>\n      <th>output_fp_N_100_slot_0.02_iteration_1</th>\n      <th>output_fp_N_100_slot_0.02_iteration_2</th>\n      <th>output_fp_N_100_slot_0.02_iteration_3</th>\n      <th>output_fp_N_100_slot_0.05_iteration_1</th>\n      <th>output_fp_N_100_slot_0.05_iteration_2</th>\n      <th>output_fp_N_100_slot_0.05_iteration_3</th>\n      <th>output_fp_N_150_slot_0.02_iteration_1</th>\n      <th>output_fp_N_150_slot_0.02_iteration_2</th>\n      <th>output_fp_N_150_slot_0.02_iteration_3</th>\n    </tr>\n    <tr>\n      <th>t</th>\n      <th></th>\n      <th></th>\n      <th></th>\n      <th></th>\n      <th></th>\n      <th></th>\n      <th></th>\n      <th></th>\n      <th></th>\n      <th></th>\n      <th></th>\n      <th></th>\n      <th></th>\n      <th></th>\n      <th></th>\n    </tr>\n  </thead>\n  <tbody>\n    <tr>\n      <th>0.000000</th>\n      <td>0.0</td>\n      <td>0.0</td>\n      <td>0.0</td>\n      <td>0.0</td>\n      <td>0.00</td>\n      <td>0.00</td>\n      <td>0.0</td>\n      <td>0.0</td>\n      <td>0.0</td>\n      <td>0.0</td>\n      <td>0.0</td>\n      <td>0.0</td>\n      <td>0.0</td>\n      <td>0.0</td>\n      <td>0.0</td>\n    </tr>\n    <tr>\n      <th>0.000104</th>\n      <td>NaN</td>\n      <td>NaN</td>\n      <td>NaN</td>\n      <td>NaN</td>\n      <td>NaN</td>\n      <td>NaN</td>\n      <td>NaN</td>\n      <td>NaN</td>\n      <td>NaN</td>\n      <td>NaN</td>\n      <td>NaN</td>\n      <td>NaN</td>\n      <td>0.0</td>\n      <td>NaN</td>\n      <td>NaN</td>\n    </tr>\n    <tr>\n      <th>0.006550</th>\n      <td>NaN</td>\n      <td>NaN</td>\n      <td>NaN</td>\n      <td>NaN</td>\n      <td>NaN</td>\n      <td>NaN</td>\n      <td>NaN</td>\n      <td>NaN</td>\n      <td>NaN</td>\n      <td>NaN</td>\n      <td>NaN</td>\n      <td>NaN</td>\n      <td>0.0</td>\n      <td>NaN</td>\n      <td>NaN</td>\n    </tr>\n    <tr>\n      <th>0.006670</th>\n      <td>NaN</td>\n      <td>NaN</td>\n      <td>NaN</td>\n      <td>NaN</td>\n      <td>NaN</td>\n      <td>NaN</td>\n      <td>NaN</td>\n      <td>NaN</td>\n      <td>NaN</td>\n      <td>NaN</td>\n      <td>NaN</td>\n      <td>NaN</td>\n      <td>0.0</td>\n      <td>NaN</td>\n      <td>NaN</td>\n    </tr>\n    <tr>\n      <th>0.007078</th>\n      <td>NaN</td>\n      <td>NaN</td>\n      <td>NaN</td>\n      <td>NaN</td>\n      <td>0.00</td>\n      <td>0.00</td>\n      <td>NaN</td>\n      <td>NaN</td>\n      <td>NaN</td>\n      <td>NaN</td>\n      <td>NaN</td>\n      <td>NaN</td>\n      <td>NaN</td>\n      <td>NaN</td>\n      <td>NaN</td>\n    </tr>\n    <tr>\n      <th>...</th>\n      <td>...</td>\n      <td>...</td>\n      <td>...</td>\n      <td>...</td>\n      <td>...</td>\n      <td>...</td>\n      <td>...</td>\n      <td>...</td>\n      <td>...</td>\n      <td>...</td>\n      <td>...</td>\n      <td>...</td>\n      <td>...</td>\n      <td>...</td>\n      <td>...</td>\n    </tr>\n    <tr>\n      <th>909.410193</th>\n      <td>NaN</td>\n      <td>NaN</td>\n      <td>NaN</td>\n      <td>NaN</td>\n      <td>0.49</td>\n      <td>0.49</td>\n      <td>NaN</td>\n      <td>NaN</td>\n      <td>NaN</td>\n      <td>NaN</td>\n      <td>NaN</td>\n      <td>NaN</td>\n      <td>NaN</td>\n      <td>NaN</td>\n      <td>NaN</td>\n    </tr>\n    <tr>\n      <th>909.410563</th>\n      <td>NaN</td>\n      <td>NaN</td>\n      <td>NaN</td>\n      <td>NaN</td>\n      <td>0.49</td>\n      <td>0.49</td>\n      <td>NaN</td>\n      <td>NaN</td>\n      <td>NaN</td>\n      <td>NaN</td>\n      <td>NaN</td>\n      <td>NaN</td>\n      <td>NaN</td>\n      <td>NaN</td>\n      <td>NaN</td>\n    </tr>\n    <tr>\n      <th>909.439527</th>\n      <td>NaN</td>\n      <td>NaN</td>\n      <td>NaN</td>\n      <td>NaN</td>\n      <td>0.49</td>\n      <td>0.49</td>\n      <td>NaN</td>\n      <td>NaN</td>\n      <td>NaN</td>\n      <td>NaN</td>\n      <td>NaN</td>\n      <td>NaN</td>\n      <td>NaN</td>\n      <td>NaN</td>\n      <td>NaN</td>\n    </tr>\n    <tr>\n      <th>909.531825</th>\n      <td>NaN</td>\n      <td>NaN</td>\n      <td>NaN</td>\n      <td>NaN</td>\n      <td>0.50</td>\n      <td>0.50</td>\n      <td>NaN</td>\n      <td>NaN</td>\n      <td>NaN</td>\n      <td>NaN</td>\n      <td>NaN</td>\n      <td>NaN</td>\n      <td>NaN</td>\n      <td>NaN</td>\n      <td>NaN</td>\n    </tr>\n    <tr>\n      <th>909.548904</th>\n      <td>NaN</td>\n      <td>NaN</td>\n      <td>NaN</td>\n      <td>NaN</td>\n      <td>0.50</td>\n      <td>0.50</td>\n      <td>NaN</td>\n      <td>NaN</td>\n      <td>NaN</td>\n      <td>NaN</td>\n      <td>NaN</td>\n      <td>NaN</td>\n      <td>NaN</td>\n      <td>NaN</td>\n      <td>NaN</td>\n    </tr>\n  </tbody>\n</table>\n<p>194632 rows × 15 columns</p>\n</div>"
     },
     "execution_count": 275,
     "metadata": {},
     "output_type": "execute_result"
    }
   ],
   "source": [
    "final_data"
   ],
   "metadata": {
    "collapsed": false,
    "pycharm": {
     "name": "#%%\n"
    }
   }
  },
  {
   "cell_type": "code",
   "execution_count": 276,
   "outputs": [],
   "source": [
    "# final_data = final_data.where((final_data >= 0.49) & (final_data <= 0.51))"
   ],
   "metadata": {
    "collapsed": false,
    "pycharm": {
     "name": "#%%\n"
    }
   }
  },
  {
   "cell_type": "code",
   "execution_count": 277,
   "outputs": [],
   "source": [
    "final_data.dropna(inplace=True, axis=0, how='all')"
   ],
   "metadata": {
    "collapsed": false,
    "pycharm": {
     "name": "#%%\n"
    }
   }
  },
  {
   "cell_type": "code",
   "execution_count": 278,
   "outputs": [
    {
     "data": {
      "text/plain": "            output_fp_N_50_slot_0.02_iteration_1  \\\nt                                                  \n0.000000                                     0.0   \n0.000104                                     NaN   \n0.006550                                     NaN   \n0.006670                                     NaN   \n0.007078                                     NaN   \n...                                          ...   \n909.410193                                   NaN   \n909.410563                                   NaN   \n909.439527                                   NaN   \n909.531825                                   NaN   \n909.548904                                   NaN   \n\n            output_fp_N_50_slot_0.02_iteration_2  \\\nt                                                  \n0.000000                                     0.0   \n0.000104                                     NaN   \n0.006550                                     NaN   \n0.006670                                     NaN   \n0.007078                                     NaN   \n...                                          ...   \n909.410193                                   NaN   \n909.410563                                   NaN   \n909.439527                                   NaN   \n909.531825                                   NaN   \n909.548904                                   NaN   \n\n            output_fp_N_50_slot_0.02_iteration_3  \\\nt                                                  \n0.000000                                     0.0   \n0.000104                                     NaN   \n0.006550                                     NaN   \n0.006670                                     NaN   \n0.007078                                     NaN   \n...                                          ...   \n909.410193                                   NaN   \n909.410563                                   NaN   \n909.439527                                   NaN   \n909.531825                                   NaN   \n909.548904                                   NaN   \n\n            output_fp_N_100_slot_0.01_iteration_1  \\\nt                                                   \n0.000000                                      0.0   \n0.000104                                      NaN   \n0.006550                                      NaN   \n0.006670                                      NaN   \n0.007078                                      NaN   \n...                                           ...   \n909.410193                                    NaN   \n909.410563                                    NaN   \n909.439527                                    NaN   \n909.531825                                    NaN   \n909.548904                                    NaN   \n\n            output_fp_N_100_slot_0.01_iteration_2  \\\nt                                                   \n0.000000                                     0.00   \n0.000104                                      NaN   \n0.006550                                      NaN   \n0.006670                                      NaN   \n0.007078                                     0.00   \n...                                           ...   \n909.410193                                   0.49   \n909.410563                                   0.49   \n909.439527                                   0.49   \n909.531825                                   0.50   \n909.548904                                   0.50   \n\n            output_fp_N_100_slot_0.01_iteration_3  \\\nt                                                   \n0.000000                                     0.00   \n0.000104                                      NaN   \n0.006550                                      NaN   \n0.006670                                      NaN   \n0.007078                                     0.00   \n...                                           ...   \n909.410193                                   0.49   \n909.410563                                   0.49   \n909.439527                                   0.49   \n909.531825                                   0.50   \n909.548904                                   0.50   \n\n            output_fp_N_100_slot_0.02_iteration_1  \\\nt                                                   \n0.000000                                      0.0   \n0.000104                                      NaN   \n0.006550                                      NaN   \n0.006670                                      NaN   \n0.007078                                      NaN   \n...                                           ...   \n909.410193                                    NaN   \n909.410563                                    NaN   \n909.439527                                    NaN   \n909.531825                                    NaN   \n909.548904                                    NaN   \n\n            output_fp_N_100_slot_0.02_iteration_2  \\\nt                                                   \n0.000000                                      0.0   \n0.000104                                      NaN   \n0.006550                                      NaN   \n0.006670                                      NaN   \n0.007078                                      NaN   \n...                                           ...   \n909.410193                                    NaN   \n909.410563                                    NaN   \n909.439527                                    NaN   \n909.531825                                    NaN   \n909.548904                                    NaN   \n\n            output_fp_N_100_slot_0.02_iteration_3  \\\nt                                                   \n0.000000                                      0.0   \n0.000104                                      NaN   \n0.006550                                      NaN   \n0.006670                                      NaN   \n0.007078                                      NaN   \n...                                           ...   \n909.410193                                    NaN   \n909.410563                                    NaN   \n909.439527                                    NaN   \n909.531825                                    NaN   \n909.548904                                    NaN   \n\n            output_fp_N_100_slot_0.05_iteration_1  \\\nt                                                   \n0.000000                                      0.0   \n0.000104                                      NaN   \n0.006550                                      NaN   \n0.006670                                      NaN   \n0.007078                                      NaN   \n...                                           ...   \n909.410193                                    NaN   \n909.410563                                    NaN   \n909.439527                                    NaN   \n909.531825                                    NaN   \n909.548904                                    NaN   \n\n            output_fp_N_100_slot_0.05_iteration_2  \\\nt                                                   \n0.000000                                      0.0   \n0.000104                                      NaN   \n0.006550                                      NaN   \n0.006670                                      NaN   \n0.007078                                      NaN   \n...                                           ...   \n909.410193                                    NaN   \n909.410563                                    NaN   \n909.439527                                    NaN   \n909.531825                                    NaN   \n909.548904                                    NaN   \n\n            output_fp_N_100_slot_0.05_iteration_3  \\\nt                                                   \n0.000000                                      0.0   \n0.000104                                      NaN   \n0.006550                                      NaN   \n0.006670                                      NaN   \n0.007078                                      NaN   \n...                                           ...   \n909.410193                                    NaN   \n909.410563                                    NaN   \n909.439527                                    NaN   \n909.531825                                    NaN   \n909.548904                                    NaN   \n\n            output_fp_N_150_slot_0.02_iteration_1  \\\nt                                                   \n0.000000                                      0.0   \n0.000104                                      0.0   \n0.006550                                      0.0   \n0.006670                                      0.0   \n0.007078                                      NaN   \n...                                           ...   \n909.410193                                    NaN   \n909.410563                                    NaN   \n909.439527                                    NaN   \n909.531825                                    NaN   \n909.548904                                    NaN   \n\n            output_fp_N_150_slot_0.02_iteration_2  \\\nt                                                   \n0.000000                                      0.0   \n0.000104                                      NaN   \n0.006550                                      NaN   \n0.006670                                      NaN   \n0.007078                                      NaN   \n...                                           ...   \n909.410193                                    NaN   \n909.410563                                    NaN   \n909.439527                                    NaN   \n909.531825                                    NaN   \n909.548904                                    NaN   \n\n            output_fp_N_150_slot_0.02_iteration_3  \nt                                                  \n0.000000                                      0.0  \n0.000104                                      NaN  \n0.006550                                      NaN  \n0.006670                                      NaN  \n0.007078                                      NaN  \n...                                           ...  \n909.410193                                    NaN  \n909.410563                                    NaN  \n909.439527                                    NaN  \n909.531825                                    NaN  \n909.548904                                    NaN  \n\n[194632 rows x 15 columns]",
      "text/html": "<div>\n<style scoped>\n    .dataframe tbody tr th:only-of-type {\n        vertical-align: middle;\n    }\n\n    .dataframe tbody tr th {\n        vertical-align: top;\n    }\n\n    .dataframe thead th {\n        text-align: right;\n    }\n</style>\n<table border=\"1\" class=\"dataframe\">\n  <thead>\n    <tr style=\"text-align: right;\">\n      <th></th>\n      <th>output_fp_N_50_slot_0.02_iteration_1</th>\n      <th>output_fp_N_50_slot_0.02_iteration_2</th>\n      <th>output_fp_N_50_slot_0.02_iteration_3</th>\n      <th>output_fp_N_100_slot_0.01_iteration_1</th>\n      <th>output_fp_N_100_slot_0.01_iteration_2</th>\n      <th>output_fp_N_100_slot_0.01_iteration_3</th>\n      <th>output_fp_N_100_slot_0.02_iteration_1</th>\n      <th>output_fp_N_100_slot_0.02_iteration_2</th>\n      <th>output_fp_N_100_slot_0.02_iteration_3</th>\n      <th>output_fp_N_100_slot_0.05_iteration_1</th>\n      <th>output_fp_N_100_slot_0.05_iteration_2</th>\n      <th>output_fp_N_100_slot_0.05_iteration_3</th>\n      <th>output_fp_N_150_slot_0.02_iteration_1</th>\n      <th>output_fp_N_150_slot_0.02_iteration_2</th>\n      <th>output_fp_N_150_slot_0.02_iteration_3</th>\n    </tr>\n    <tr>\n      <th>t</th>\n      <th></th>\n      <th></th>\n      <th></th>\n      <th></th>\n      <th></th>\n      <th></th>\n      <th></th>\n      <th></th>\n      <th></th>\n      <th></th>\n      <th></th>\n      <th></th>\n      <th></th>\n      <th></th>\n      <th></th>\n    </tr>\n  </thead>\n  <tbody>\n    <tr>\n      <th>0.000000</th>\n      <td>0.0</td>\n      <td>0.0</td>\n      <td>0.0</td>\n      <td>0.0</td>\n      <td>0.00</td>\n      <td>0.00</td>\n      <td>0.0</td>\n      <td>0.0</td>\n      <td>0.0</td>\n      <td>0.0</td>\n      <td>0.0</td>\n      <td>0.0</td>\n      <td>0.0</td>\n      <td>0.0</td>\n      <td>0.0</td>\n    </tr>\n    <tr>\n      <th>0.000104</th>\n      <td>NaN</td>\n      <td>NaN</td>\n      <td>NaN</td>\n      <td>NaN</td>\n      <td>NaN</td>\n      <td>NaN</td>\n      <td>NaN</td>\n      <td>NaN</td>\n      <td>NaN</td>\n      <td>NaN</td>\n      <td>NaN</td>\n      <td>NaN</td>\n      <td>0.0</td>\n      <td>NaN</td>\n      <td>NaN</td>\n    </tr>\n    <tr>\n      <th>0.006550</th>\n      <td>NaN</td>\n      <td>NaN</td>\n      <td>NaN</td>\n      <td>NaN</td>\n      <td>NaN</td>\n      <td>NaN</td>\n      <td>NaN</td>\n      <td>NaN</td>\n      <td>NaN</td>\n      <td>NaN</td>\n      <td>NaN</td>\n      <td>NaN</td>\n      <td>0.0</td>\n      <td>NaN</td>\n      <td>NaN</td>\n    </tr>\n    <tr>\n      <th>0.006670</th>\n      <td>NaN</td>\n      <td>NaN</td>\n      <td>NaN</td>\n      <td>NaN</td>\n      <td>NaN</td>\n      <td>NaN</td>\n      <td>NaN</td>\n      <td>NaN</td>\n      <td>NaN</td>\n      <td>NaN</td>\n      <td>NaN</td>\n      <td>NaN</td>\n      <td>0.0</td>\n      <td>NaN</td>\n      <td>NaN</td>\n    </tr>\n    <tr>\n      <th>0.007078</th>\n      <td>NaN</td>\n      <td>NaN</td>\n      <td>NaN</td>\n      <td>NaN</td>\n      <td>0.00</td>\n      <td>0.00</td>\n      <td>NaN</td>\n      <td>NaN</td>\n      <td>NaN</td>\n      <td>NaN</td>\n      <td>NaN</td>\n      <td>NaN</td>\n      <td>NaN</td>\n      <td>NaN</td>\n      <td>NaN</td>\n    </tr>\n    <tr>\n      <th>...</th>\n      <td>...</td>\n      <td>...</td>\n      <td>...</td>\n      <td>...</td>\n      <td>...</td>\n      <td>...</td>\n      <td>...</td>\n      <td>...</td>\n      <td>...</td>\n      <td>...</td>\n      <td>...</td>\n      <td>...</td>\n      <td>...</td>\n      <td>...</td>\n      <td>...</td>\n    </tr>\n    <tr>\n      <th>909.410193</th>\n      <td>NaN</td>\n      <td>NaN</td>\n      <td>NaN</td>\n      <td>NaN</td>\n      <td>0.49</td>\n      <td>0.49</td>\n      <td>NaN</td>\n      <td>NaN</td>\n      <td>NaN</td>\n      <td>NaN</td>\n      <td>NaN</td>\n      <td>NaN</td>\n      <td>NaN</td>\n      <td>NaN</td>\n      <td>NaN</td>\n    </tr>\n    <tr>\n      <th>909.410563</th>\n      <td>NaN</td>\n      <td>NaN</td>\n      <td>NaN</td>\n      <td>NaN</td>\n      <td>0.49</td>\n      <td>0.49</td>\n      <td>NaN</td>\n      <td>NaN</td>\n      <td>NaN</td>\n      <td>NaN</td>\n      <td>NaN</td>\n      <td>NaN</td>\n      <td>NaN</td>\n      <td>NaN</td>\n      <td>NaN</td>\n    </tr>\n    <tr>\n      <th>909.439527</th>\n      <td>NaN</td>\n      <td>NaN</td>\n      <td>NaN</td>\n      <td>NaN</td>\n      <td>0.49</td>\n      <td>0.49</td>\n      <td>NaN</td>\n      <td>NaN</td>\n      <td>NaN</td>\n      <td>NaN</td>\n      <td>NaN</td>\n      <td>NaN</td>\n      <td>NaN</td>\n      <td>NaN</td>\n      <td>NaN</td>\n    </tr>\n    <tr>\n      <th>909.531825</th>\n      <td>NaN</td>\n      <td>NaN</td>\n      <td>NaN</td>\n      <td>NaN</td>\n      <td>0.50</td>\n      <td>0.50</td>\n      <td>NaN</td>\n      <td>NaN</td>\n      <td>NaN</td>\n      <td>NaN</td>\n      <td>NaN</td>\n      <td>NaN</td>\n      <td>NaN</td>\n      <td>NaN</td>\n      <td>NaN</td>\n    </tr>\n    <tr>\n      <th>909.548904</th>\n      <td>NaN</td>\n      <td>NaN</td>\n      <td>NaN</td>\n      <td>NaN</td>\n      <td>0.50</td>\n      <td>0.50</td>\n      <td>NaN</td>\n      <td>NaN</td>\n      <td>NaN</td>\n      <td>NaN</td>\n      <td>NaN</td>\n      <td>NaN</td>\n      <td>NaN</td>\n      <td>NaN</td>\n      <td>NaN</td>\n    </tr>\n  </tbody>\n</table>\n<p>194632 rows × 15 columns</p>\n</div>"
     },
     "execution_count": 278,
     "metadata": {},
     "output_type": "execute_result"
    }
   ],
   "source": [
    "final_data"
   ],
   "metadata": {
    "collapsed": false,
    "pycharm": {
     "name": "#%%\n"
    }
   }
  },
  {
   "cell_type": "code",
   "execution_count": 311,
   "outputs": [
    {
     "data": {
      "text/plain": "            output_fp_N_50_slot_0.02_iteration_1  \\\nt                                                  \n0.000000                                     0.0   \n0.000104                                     NaN   \n0.006550                                     NaN   \n0.006670                                     NaN   \n0.007078                                     NaN   \n...                                          ...   \n909.410193                                   NaN   \n909.410563                                   NaN   \n909.439527                                   NaN   \n909.531825                                   NaN   \n909.548904                                   NaN   \n\n            output_fp_N_50_slot_0.02_iteration_2  \\\nt                                                  \n0.000000                                     0.0   \n0.000104                                     NaN   \n0.006550                                     NaN   \n0.006670                                     NaN   \n0.007078                                     NaN   \n...                                          ...   \n909.410193                                   NaN   \n909.410563                                   NaN   \n909.439527                                   NaN   \n909.531825                                   NaN   \n909.548904                                   NaN   \n\n            output_fp_N_50_slot_0.02_iteration_3  \\\nt                                                  \n0.000000                                     0.0   \n0.000104                                     NaN   \n0.006550                                     NaN   \n0.006670                                     NaN   \n0.007078                                     NaN   \n...                                          ...   \n909.410193                                   NaN   \n909.410563                                   NaN   \n909.439527                                   NaN   \n909.531825                                   NaN   \n909.548904                                   NaN   \n\n            output_fp_N_100_slot_0.02_iteration_1  \\\nt                                                   \n0.000000                                      0.0   \n0.000104                                      NaN   \n0.006550                                      NaN   \n0.006670                                      NaN   \n0.007078                                      NaN   \n...                                           ...   \n909.410193                                    NaN   \n909.410563                                    NaN   \n909.439527                                    NaN   \n909.531825                                    NaN   \n909.548904                                    NaN   \n\n            output_fp_N_100_slot_0.02_iteration_2  \\\nt                                                   \n0.000000                                      0.0   \n0.000104                                      NaN   \n0.006550                                      NaN   \n0.006670                                      NaN   \n0.007078                                      NaN   \n...                                           ...   \n909.410193                                    NaN   \n909.410563                                    NaN   \n909.439527                                    NaN   \n909.531825                                    NaN   \n909.548904                                    NaN   \n\n            output_fp_N_100_slot_0.02_iteration_3  \\\nt                                                   \n0.000000                                      0.0   \n0.000104                                      NaN   \n0.006550                                      NaN   \n0.006670                                      NaN   \n0.007078                                      NaN   \n...                                           ...   \n909.410193                                    NaN   \n909.410563                                    NaN   \n909.439527                                    NaN   \n909.531825                                    NaN   \n909.548904                                    NaN   \n\n            output_fp_N_150_slot_0.02_iteration_1  \\\nt                                                   \n0.000000                                      0.0   \n0.000104                                      0.0   \n0.006550                                      0.0   \n0.006670                                      0.0   \n0.007078                                      NaN   \n...                                           ...   \n909.410193                                    NaN   \n909.410563                                    NaN   \n909.439527                                    NaN   \n909.531825                                    NaN   \n909.548904                                    NaN   \n\n            output_fp_N_150_slot_0.02_iteration_2  \\\nt                                                   \n0.000000                                      0.0   \n0.000104                                      NaN   \n0.006550                                      NaN   \n0.006670                                      NaN   \n0.007078                                      NaN   \n...                                           ...   \n909.410193                                    NaN   \n909.410563                                    NaN   \n909.439527                                    NaN   \n909.531825                                    NaN   \n909.548904                                    NaN   \n\n            output_fp_N_150_slot_0.02_iteration_3  \nt                                                  \n0.000000                                      0.0  \n0.000104                                      NaN  \n0.006550                                      NaN  \n0.006670                                      NaN  \n0.007078                                      NaN  \n...                                           ...  \n909.410193                                    NaN  \n909.410563                                    NaN  \n909.439527                                    NaN  \n909.531825                                    NaN  \n909.548904                                    NaN  \n\n[194632 rows x 9 columns]",
      "text/html": "<div>\n<style scoped>\n    .dataframe tbody tr th:only-of-type {\n        vertical-align: middle;\n    }\n\n    .dataframe tbody tr th {\n        vertical-align: top;\n    }\n\n    .dataframe thead th {\n        text-align: right;\n    }\n</style>\n<table border=\"1\" class=\"dataframe\">\n  <thead>\n    <tr style=\"text-align: right;\">\n      <th></th>\n      <th>output_fp_N_50_slot_0.02_iteration_1</th>\n      <th>output_fp_N_50_slot_0.02_iteration_2</th>\n      <th>output_fp_N_50_slot_0.02_iteration_3</th>\n      <th>output_fp_N_100_slot_0.02_iteration_1</th>\n      <th>output_fp_N_100_slot_0.02_iteration_2</th>\n      <th>output_fp_N_100_slot_0.02_iteration_3</th>\n      <th>output_fp_N_150_slot_0.02_iteration_1</th>\n      <th>output_fp_N_150_slot_0.02_iteration_2</th>\n      <th>output_fp_N_150_slot_0.02_iteration_3</th>\n    </tr>\n    <tr>\n      <th>t</th>\n      <th></th>\n      <th></th>\n      <th></th>\n      <th></th>\n      <th></th>\n      <th></th>\n      <th></th>\n      <th></th>\n      <th></th>\n    </tr>\n  </thead>\n  <tbody>\n    <tr>\n      <th>0.000000</th>\n      <td>0.0</td>\n      <td>0.0</td>\n      <td>0.0</td>\n      <td>0.0</td>\n      <td>0.0</td>\n      <td>0.0</td>\n      <td>0.0</td>\n      <td>0.0</td>\n      <td>0.0</td>\n    </tr>\n    <tr>\n      <th>0.000104</th>\n      <td>NaN</td>\n      <td>NaN</td>\n      <td>NaN</td>\n      <td>NaN</td>\n      <td>NaN</td>\n      <td>NaN</td>\n      <td>0.0</td>\n      <td>NaN</td>\n      <td>NaN</td>\n    </tr>\n    <tr>\n      <th>0.006550</th>\n      <td>NaN</td>\n      <td>NaN</td>\n      <td>NaN</td>\n      <td>NaN</td>\n      <td>NaN</td>\n      <td>NaN</td>\n      <td>0.0</td>\n      <td>NaN</td>\n      <td>NaN</td>\n    </tr>\n    <tr>\n      <th>0.006670</th>\n      <td>NaN</td>\n      <td>NaN</td>\n      <td>NaN</td>\n      <td>NaN</td>\n      <td>NaN</td>\n      <td>NaN</td>\n      <td>0.0</td>\n      <td>NaN</td>\n      <td>NaN</td>\n    </tr>\n    <tr>\n      <th>0.007078</th>\n      <td>NaN</td>\n      <td>NaN</td>\n      <td>NaN</td>\n      <td>NaN</td>\n      <td>NaN</td>\n      <td>NaN</td>\n      <td>NaN</td>\n      <td>NaN</td>\n      <td>NaN</td>\n    </tr>\n    <tr>\n      <th>...</th>\n      <td>...</td>\n      <td>...</td>\n      <td>...</td>\n      <td>...</td>\n      <td>...</td>\n      <td>...</td>\n      <td>...</td>\n      <td>...</td>\n      <td>...</td>\n    </tr>\n    <tr>\n      <th>909.410193</th>\n      <td>NaN</td>\n      <td>NaN</td>\n      <td>NaN</td>\n      <td>NaN</td>\n      <td>NaN</td>\n      <td>NaN</td>\n      <td>NaN</td>\n      <td>NaN</td>\n      <td>NaN</td>\n    </tr>\n    <tr>\n      <th>909.410563</th>\n      <td>NaN</td>\n      <td>NaN</td>\n      <td>NaN</td>\n      <td>NaN</td>\n      <td>NaN</td>\n      <td>NaN</td>\n      <td>NaN</td>\n      <td>NaN</td>\n      <td>NaN</td>\n    </tr>\n    <tr>\n      <th>909.439527</th>\n      <td>NaN</td>\n      <td>NaN</td>\n      <td>NaN</td>\n      <td>NaN</td>\n      <td>NaN</td>\n      <td>NaN</td>\n      <td>NaN</td>\n      <td>NaN</td>\n      <td>NaN</td>\n    </tr>\n    <tr>\n      <th>909.531825</th>\n      <td>NaN</td>\n      <td>NaN</td>\n      <td>NaN</td>\n      <td>NaN</td>\n      <td>NaN</td>\n      <td>NaN</td>\n      <td>NaN</td>\n      <td>NaN</td>\n      <td>NaN</td>\n    </tr>\n    <tr>\n      <th>909.548904</th>\n      <td>NaN</td>\n      <td>NaN</td>\n      <td>NaN</td>\n      <td>NaN</td>\n      <td>NaN</td>\n      <td>NaN</td>\n      <td>NaN</td>\n      <td>NaN</td>\n      <td>NaN</td>\n    </tr>\n  </tbody>\n</table>\n<p>194632 rows × 9 columns</p>\n</div>"
     },
     "execution_count": 311,
     "metadata": {},
     "output_type": "execute_result"
    }
   ],
   "source": [
    "n100 = ['t',f'output_fp_N_100_slot_0.02_iteration_1',\n",
    "       f'output_fp_N_100_slot_0.02_iteration_2',\n",
    "       f'output_fp_N_100_slot_0.02_iteration_3',\n",
    "       f'output_fp_N_150_slot_0.02_iteration_1',\n",
    "       f'output_fp_N_150_slot_0.02_iteration_2',\n",
    "       f'output_fp_N_150_slot_0.02_iteration_3',\n",
    "       f'output_fp_N_50_slot_0.02_iteration_1',\n",
    "       f'output_fp_N_50_slot_0.02_iteration_2',\n",
    "       f'output_fp_N_50_slot_0.02_iteration_3']\n",
    "not_in_n100 = [x for x in columns if x not in n100]\n",
    "final_data_n100 = final_data.drop(columns=not_in_n100)\n",
    "final_data_n100"
   ],
   "metadata": {
    "collapsed": false,
    "pycharm": {
     "name": "#%%\n"
    }
   }
  },
  {
   "cell_type": "code",
   "execution_count": 312,
   "outputs": [],
   "source": [
    "# final_data_n100 = final_data_n100.replace(np.nan, '', regex=True)\n",
    "# final_data_n100"
   ],
   "metadata": {
    "collapsed": false,
    "pycharm": {
     "name": "#%%\n"
    }
   }
  },
  {
   "cell_type": "code",
   "execution_count": 313,
   "outputs": [
    {
     "data": {
      "text/plain": "['output_fp_N_100_slot_0.02_iteration_1',\n 'output_fp_N_100_slot_0.02_iteration_2',\n 'output_fp_N_100_slot_0.02_iteration_3',\n 'output_fp_N_150_slot_0.02_iteration_1',\n 'output_fp_N_150_slot_0.02_iteration_2',\n 'output_fp_N_150_slot_0.02_iteration_3',\n 'output_fp_N_50_slot_0.02_iteration_1',\n 'output_fp_N_50_slot_0.02_iteration_2',\n 'output_fp_N_50_slot_0.02_iteration_3']"
     },
     "execution_count": 313,
     "metadata": {},
     "output_type": "execute_result"
    }
   ],
   "source": [
    "n100.remove('t')\n",
    "n100"
   ],
   "metadata": {
    "collapsed": false,
    "pycharm": {
     "name": "#%%\n"
    }
   }
  },
  {
   "cell_type": "code",
   "execution_count": 314,
   "outputs": [],
   "source": [
    "final_data_n100 = final_data_n100[((final_data_n100 > 0.488) & (final_data_n100 < 0.518))]"
   ],
   "metadata": {
    "collapsed": false,
    "pycharm": {
     "name": "#%%\n"
    }
   }
  },
  {
   "cell_type": "code",
   "execution_count": 315,
   "outputs": [
    {
     "data": {
      "text/plain": "            output_fp_N_50_slot_0.02_iteration_1  \\\nt                                                  \n0.000000                                     NaN   \n0.000104                                     NaN   \n0.006550                                     NaN   \n0.006670                                     NaN   \n0.007078                                     NaN   \n...                                          ...   \n909.410193                                   NaN   \n909.410563                                   NaN   \n909.439527                                   NaN   \n909.531825                                   NaN   \n909.548904                                   NaN   \n\n            output_fp_N_50_slot_0.02_iteration_2  \\\nt                                                  \n0.000000                                     NaN   \n0.000104                                     NaN   \n0.006550                                     NaN   \n0.006670                                     NaN   \n0.007078                                     NaN   \n...                                          ...   \n909.410193                                   NaN   \n909.410563                                   NaN   \n909.439527                                   NaN   \n909.531825                                   NaN   \n909.548904                                   NaN   \n\n            output_fp_N_50_slot_0.02_iteration_3  \\\nt                                                  \n0.000000                                     NaN   \n0.000104                                     NaN   \n0.006550                                     NaN   \n0.006670                                     NaN   \n0.007078                                     NaN   \n...                                          ...   \n909.410193                                   NaN   \n909.410563                                   NaN   \n909.439527                                   NaN   \n909.531825                                   NaN   \n909.548904                                   NaN   \n\n            output_fp_N_100_slot_0.02_iteration_1  \\\nt                                                   \n0.000000                                      NaN   \n0.000104                                      NaN   \n0.006550                                      NaN   \n0.006670                                      NaN   \n0.007078                                      NaN   \n...                                           ...   \n909.410193                                    NaN   \n909.410563                                    NaN   \n909.439527                                    NaN   \n909.531825                                    NaN   \n909.548904                                    NaN   \n\n            output_fp_N_100_slot_0.02_iteration_2  \\\nt                                                   \n0.000000                                      NaN   \n0.000104                                      NaN   \n0.006550                                      NaN   \n0.006670                                      NaN   \n0.007078                                      NaN   \n...                                           ...   \n909.410193                                    NaN   \n909.410563                                    NaN   \n909.439527                                    NaN   \n909.531825                                    NaN   \n909.548904                                    NaN   \n\n            output_fp_N_100_slot_0.02_iteration_3  \\\nt                                                   \n0.000000                                      NaN   \n0.000104                                      NaN   \n0.006550                                      NaN   \n0.006670                                      NaN   \n0.007078                                      NaN   \n...                                           ...   \n909.410193                                    NaN   \n909.410563                                    NaN   \n909.439527                                    NaN   \n909.531825                                    NaN   \n909.548904                                    NaN   \n\n            output_fp_N_150_slot_0.02_iteration_1  \\\nt                                                   \n0.000000                                      NaN   \n0.000104                                      NaN   \n0.006550                                      NaN   \n0.006670                                      NaN   \n0.007078                                      NaN   \n...                                           ...   \n909.410193                                    NaN   \n909.410563                                    NaN   \n909.439527                                    NaN   \n909.531825                                    NaN   \n909.548904                                    NaN   \n\n            output_fp_N_150_slot_0.02_iteration_2  \\\nt                                                   \n0.000000                                      NaN   \n0.000104                                      NaN   \n0.006550                                      NaN   \n0.006670                                      NaN   \n0.007078                                      NaN   \n...                                           ...   \n909.410193                                    NaN   \n909.410563                                    NaN   \n909.439527                                    NaN   \n909.531825                                    NaN   \n909.548904                                    NaN   \n\n            output_fp_N_150_slot_0.02_iteration_3  \nt                                                  \n0.000000                                      NaN  \n0.000104                                      NaN  \n0.006550                                      NaN  \n0.006670                                      NaN  \n0.007078                                      NaN  \n...                                           ...  \n909.410193                                    NaN  \n909.410563                                    NaN  \n909.439527                                    NaN  \n909.531825                                    NaN  \n909.548904                                    NaN  \n\n[194632 rows x 9 columns]",
      "text/html": "<div>\n<style scoped>\n    .dataframe tbody tr th:only-of-type {\n        vertical-align: middle;\n    }\n\n    .dataframe tbody tr th {\n        vertical-align: top;\n    }\n\n    .dataframe thead th {\n        text-align: right;\n    }\n</style>\n<table border=\"1\" class=\"dataframe\">\n  <thead>\n    <tr style=\"text-align: right;\">\n      <th></th>\n      <th>output_fp_N_50_slot_0.02_iteration_1</th>\n      <th>output_fp_N_50_slot_0.02_iteration_2</th>\n      <th>output_fp_N_50_slot_0.02_iteration_3</th>\n      <th>output_fp_N_100_slot_0.02_iteration_1</th>\n      <th>output_fp_N_100_slot_0.02_iteration_2</th>\n      <th>output_fp_N_100_slot_0.02_iteration_3</th>\n      <th>output_fp_N_150_slot_0.02_iteration_1</th>\n      <th>output_fp_N_150_slot_0.02_iteration_2</th>\n      <th>output_fp_N_150_slot_0.02_iteration_3</th>\n    </tr>\n    <tr>\n      <th>t</th>\n      <th></th>\n      <th></th>\n      <th></th>\n      <th></th>\n      <th></th>\n      <th></th>\n      <th></th>\n      <th></th>\n      <th></th>\n    </tr>\n  </thead>\n  <tbody>\n    <tr>\n      <th>0.000000</th>\n      <td>NaN</td>\n      <td>NaN</td>\n      <td>NaN</td>\n      <td>NaN</td>\n      <td>NaN</td>\n      <td>NaN</td>\n      <td>NaN</td>\n      <td>NaN</td>\n      <td>NaN</td>\n    </tr>\n    <tr>\n      <th>0.000104</th>\n      <td>NaN</td>\n      <td>NaN</td>\n      <td>NaN</td>\n      <td>NaN</td>\n      <td>NaN</td>\n      <td>NaN</td>\n      <td>NaN</td>\n      <td>NaN</td>\n      <td>NaN</td>\n    </tr>\n    <tr>\n      <th>0.006550</th>\n      <td>NaN</td>\n      <td>NaN</td>\n      <td>NaN</td>\n      <td>NaN</td>\n      <td>NaN</td>\n      <td>NaN</td>\n      <td>NaN</td>\n      <td>NaN</td>\n      <td>NaN</td>\n    </tr>\n    <tr>\n      <th>0.006670</th>\n      <td>NaN</td>\n      <td>NaN</td>\n      <td>NaN</td>\n      <td>NaN</td>\n      <td>NaN</td>\n      <td>NaN</td>\n      <td>NaN</td>\n      <td>NaN</td>\n      <td>NaN</td>\n    </tr>\n    <tr>\n      <th>0.007078</th>\n      <td>NaN</td>\n      <td>NaN</td>\n      <td>NaN</td>\n      <td>NaN</td>\n      <td>NaN</td>\n      <td>NaN</td>\n      <td>NaN</td>\n      <td>NaN</td>\n      <td>NaN</td>\n    </tr>\n    <tr>\n      <th>...</th>\n      <td>...</td>\n      <td>...</td>\n      <td>...</td>\n      <td>...</td>\n      <td>...</td>\n      <td>...</td>\n      <td>...</td>\n      <td>...</td>\n      <td>...</td>\n    </tr>\n    <tr>\n      <th>909.410193</th>\n      <td>NaN</td>\n      <td>NaN</td>\n      <td>NaN</td>\n      <td>NaN</td>\n      <td>NaN</td>\n      <td>NaN</td>\n      <td>NaN</td>\n      <td>NaN</td>\n      <td>NaN</td>\n    </tr>\n    <tr>\n      <th>909.410563</th>\n      <td>NaN</td>\n      <td>NaN</td>\n      <td>NaN</td>\n      <td>NaN</td>\n      <td>NaN</td>\n      <td>NaN</td>\n      <td>NaN</td>\n      <td>NaN</td>\n      <td>NaN</td>\n    </tr>\n    <tr>\n      <th>909.439527</th>\n      <td>NaN</td>\n      <td>NaN</td>\n      <td>NaN</td>\n      <td>NaN</td>\n      <td>NaN</td>\n      <td>NaN</td>\n      <td>NaN</td>\n      <td>NaN</td>\n      <td>NaN</td>\n    </tr>\n    <tr>\n      <th>909.531825</th>\n      <td>NaN</td>\n      <td>NaN</td>\n      <td>NaN</td>\n      <td>NaN</td>\n      <td>NaN</td>\n      <td>NaN</td>\n      <td>NaN</td>\n      <td>NaN</td>\n      <td>NaN</td>\n    </tr>\n    <tr>\n      <th>909.548904</th>\n      <td>NaN</td>\n      <td>NaN</td>\n      <td>NaN</td>\n      <td>NaN</td>\n      <td>NaN</td>\n      <td>NaN</td>\n      <td>NaN</td>\n      <td>NaN</td>\n      <td>NaN</td>\n    </tr>\n  </tbody>\n</table>\n<p>194632 rows × 9 columns</p>\n</div>"
     },
     "execution_count": 315,
     "metadata": {},
     "output_type": "execute_result"
    }
   ],
   "source": [
    "final_data_n100"
   ],
   "metadata": {
    "collapsed": false,
    "pycharm": {
     "name": "#%%\n"
    }
   }
  },
  {
   "cell_type": "code",
   "execution_count": 316,
   "outputs": [
    {
     "data": {
      "text/plain": "            output_fp_N_50_slot_0.02_iteration_1  \\\nt                                                  \n149.656603                                   0.5   \n149.659442                                   0.5   \n149.996572                                   0.5   \n150.131780                                   0.5   \n150.178958                                   0.5   \n...                                          ...   \n543.184339                                   NaN   \n543.200652                                   NaN   \n543.215396                                   NaN   \n543.246337                                   NaN   \n543.249705                                   NaN   \n\n            output_fp_N_50_slot_0.02_iteration_2  \\\nt                                                  \n149.656603                                   NaN   \n149.659442                                   NaN   \n149.996572                                   NaN   \n150.131780                                   NaN   \n150.178958                                   NaN   \n...                                          ...   \n543.184339                                   NaN   \n543.200652                                   NaN   \n543.215396                                   NaN   \n543.246337                                   NaN   \n543.249705                                   NaN   \n\n            output_fp_N_50_slot_0.02_iteration_3  \\\nt                                                  \n149.656603                                   NaN   \n149.659442                                   NaN   \n149.996572                                   NaN   \n150.131780                                   NaN   \n150.178958                                   NaN   \n...                                          ...   \n543.184339                                   NaN   \n543.200652                                   NaN   \n543.215396                                   NaN   \n543.246337                                   NaN   \n543.249705                                   NaN   \n\n            output_fp_N_100_slot_0.02_iteration_1  \\\nt                                                   \n149.656603                                    NaN   \n149.659442                                    NaN   \n149.996572                                    NaN   \n150.131780                                    NaN   \n150.178958                                    NaN   \n...                                           ...   \n543.184339                                   0.49   \n543.200652                                   0.49   \n543.215396                                   0.49   \n543.246337                                   0.49   \n543.249705                                   0.49   \n\n            output_fp_N_100_slot_0.02_iteration_2  \\\nt                                                   \n149.656603                                    NaN   \n149.659442                                    NaN   \n149.996572                                    NaN   \n150.131780                                    NaN   \n150.178958                                    NaN   \n...                                           ...   \n543.184339                                    NaN   \n543.200652                                    NaN   \n543.215396                                    NaN   \n543.246337                                    NaN   \n543.249705                                    NaN   \n\n            output_fp_N_100_slot_0.02_iteration_3  \\\nt                                                   \n149.656603                                    NaN   \n149.659442                                    NaN   \n149.996572                                    NaN   \n150.131780                                    NaN   \n150.178958                                    NaN   \n...                                           ...   \n543.184339                                    NaN   \n543.200652                                    NaN   \n543.215396                                    NaN   \n543.246337                                    NaN   \n543.249705                                    NaN   \n\n            output_fp_N_150_slot_0.02_iteration_1  \\\nt                                                   \n149.656603                                    NaN   \n149.659442                                    NaN   \n149.996572                                    NaN   \n150.131780                                    NaN   \n150.178958                                    NaN   \n...                                           ...   \n543.184339                                    NaN   \n543.200652                                    NaN   \n543.215396                                    NaN   \n543.246337                                    NaN   \n543.249705                                    NaN   \n\n            output_fp_N_150_slot_0.02_iteration_2  \\\nt                                                   \n149.656603                                    NaN   \n149.659442                                    NaN   \n149.996572                                    NaN   \n150.131780                                    NaN   \n150.178958                                    NaN   \n...                                           ...   \n543.184339                                    NaN   \n543.200652                                    NaN   \n543.215396                                    NaN   \n543.246337                                    NaN   \n543.249705                                    NaN   \n\n            output_fp_N_150_slot_0.02_iteration_3  \nt                                                  \n149.656603                                    NaN  \n149.659442                                    NaN  \n149.996572                                    NaN  \n150.131780                                    NaN  \n150.178958                                    NaN  \n...                                           ...  \n543.184339                                    NaN  \n543.200652                                    NaN  \n543.215396                                    NaN  \n543.246337                                    NaN  \n543.249705                                    NaN  \n\n[12201 rows x 9 columns]",
      "text/html": "<div>\n<style scoped>\n    .dataframe tbody tr th:only-of-type {\n        vertical-align: middle;\n    }\n\n    .dataframe tbody tr th {\n        vertical-align: top;\n    }\n\n    .dataframe thead th {\n        text-align: right;\n    }\n</style>\n<table border=\"1\" class=\"dataframe\">\n  <thead>\n    <tr style=\"text-align: right;\">\n      <th></th>\n      <th>output_fp_N_50_slot_0.02_iteration_1</th>\n      <th>output_fp_N_50_slot_0.02_iteration_2</th>\n      <th>output_fp_N_50_slot_0.02_iteration_3</th>\n      <th>output_fp_N_100_slot_0.02_iteration_1</th>\n      <th>output_fp_N_100_slot_0.02_iteration_2</th>\n      <th>output_fp_N_100_slot_0.02_iteration_3</th>\n      <th>output_fp_N_150_slot_0.02_iteration_1</th>\n      <th>output_fp_N_150_slot_0.02_iteration_2</th>\n      <th>output_fp_N_150_slot_0.02_iteration_3</th>\n    </tr>\n    <tr>\n      <th>t</th>\n      <th></th>\n      <th></th>\n      <th></th>\n      <th></th>\n      <th></th>\n      <th></th>\n      <th></th>\n      <th></th>\n      <th></th>\n    </tr>\n  </thead>\n  <tbody>\n    <tr>\n      <th>149.656603</th>\n      <td>0.5</td>\n      <td>NaN</td>\n      <td>NaN</td>\n      <td>NaN</td>\n      <td>NaN</td>\n      <td>NaN</td>\n      <td>NaN</td>\n      <td>NaN</td>\n      <td>NaN</td>\n    </tr>\n    <tr>\n      <th>149.659442</th>\n      <td>0.5</td>\n      <td>NaN</td>\n      <td>NaN</td>\n      <td>NaN</td>\n      <td>NaN</td>\n      <td>NaN</td>\n      <td>NaN</td>\n      <td>NaN</td>\n      <td>NaN</td>\n    </tr>\n    <tr>\n      <th>149.996572</th>\n      <td>0.5</td>\n      <td>NaN</td>\n      <td>NaN</td>\n      <td>NaN</td>\n      <td>NaN</td>\n      <td>NaN</td>\n      <td>NaN</td>\n      <td>NaN</td>\n      <td>NaN</td>\n    </tr>\n    <tr>\n      <th>150.131780</th>\n      <td>0.5</td>\n      <td>NaN</td>\n      <td>NaN</td>\n      <td>NaN</td>\n      <td>NaN</td>\n      <td>NaN</td>\n      <td>NaN</td>\n      <td>NaN</td>\n      <td>NaN</td>\n    </tr>\n    <tr>\n      <th>150.178958</th>\n      <td>0.5</td>\n      <td>NaN</td>\n      <td>NaN</td>\n      <td>NaN</td>\n      <td>NaN</td>\n      <td>NaN</td>\n      <td>NaN</td>\n      <td>NaN</td>\n      <td>NaN</td>\n    </tr>\n    <tr>\n      <th>...</th>\n      <td>...</td>\n      <td>...</td>\n      <td>...</td>\n      <td>...</td>\n      <td>...</td>\n      <td>...</td>\n      <td>...</td>\n      <td>...</td>\n      <td>...</td>\n    </tr>\n    <tr>\n      <th>543.184339</th>\n      <td>NaN</td>\n      <td>NaN</td>\n      <td>NaN</td>\n      <td>0.49</td>\n      <td>NaN</td>\n      <td>NaN</td>\n      <td>NaN</td>\n      <td>NaN</td>\n      <td>NaN</td>\n    </tr>\n    <tr>\n      <th>543.200652</th>\n      <td>NaN</td>\n      <td>NaN</td>\n      <td>NaN</td>\n      <td>0.49</td>\n      <td>NaN</td>\n      <td>NaN</td>\n      <td>NaN</td>\n      <td>NaN</td>\n      <td>NaN</td>\n    </tr>\n    <tr>\n      <th>543.215396</th>\n      <td>NaN</td>\n      <td>NaN</td>\n      <td>NaN</td>\n      <td>0.49</td>\n      <td>NaN</td>\n      <td>NaN</td>\n      <td>NaN</td>\n      <td>NaN</td>\n      <td>NaN</td>\n    </tr>\n    <tr>\n      <th>543.246337</th>\n      <td>NaN</td>\n      <td>NaN</td>\n      <td>NaN</td>\n      <td>0.49</td>\n      <td>NaN</td>\n      <td>NaN</td>\n      <td>NaN</td>\n      <td>NaN</td>\n      <td>NaN</td>\n    </tr>\n    <tr>\n      <th>543.249705</th>\n      <td>NaN</td>\n      <td>NaN</td>\n      <td>NaN</td>\n      <td>0.49</td>\n      <td>NaN</td>\n      <td>NaN</td>\n      <td>NaN</td>\n      <td>NaN</td>\n      <td>NaN</td>\n    </tr>\n  </tbody>\n</table>\n<p>12201 rows × 9 columns</p>\n</div>"
     },
     "execution_count": 316,
     "metadata": {},
     "output_type": "execute_result"
    }
   ],
   "source": [
    "final_data_n100.dropna(inplace=True, axis=0, how='all')\n",
    "final_data_n100"
   ],
   "metadata": {
    "collapsed": false,
    "pycharm": {
     "name": "#%%\n"
    }
   }
  },
  {
   "cell_type": "code",
   "execution_count": 322,
   "outputs": [
    {
     "name": "stdout",
     "output_type": "stream",
     "text": [
      "t\n",
      "149.656603    0.5\n",
      "149.659442    0.5\n",
      "149.996572    0.5\n",
      "150.131780    0.5\n",
      "150.178958    0.5\n",
      "             ... \n",
      "543.184339    NaN\n",
      "543.200652    NaN\n",
      "543.215396    NaN\n",
      "543.246337    NaN\n",
      "543.249705    NaN\n",
      "Name: output_fp_N_50_slot_0.02_iteration_1, Length: 12201, dtype: float64\n",
      "t\n",
      "149.656603   NaN\n",
      "149.659442   NaN\n",
      "149.996572   NaN\n",
      "150.131780   NaN\n",
      "150.178958   NaN\n",
      "              ..\n",
      "543.184339   NaN\n",
      "543.200652   NaN\n",
      "543.215396   NaN\n",
      "543.246337   NaN\n",
      "543.249705   NaN\n",
      "Name: output_fp_N_50_slot_0.02_iteration_2, Length: 12201, dtype: float64\n",
      "t\n",
      "149.656603   NaN\n",
      "149.659442   NaN\n",
      "149.996572   NaN\n",
      "150.131780   NaN\n",
      "150.178958   NaN\n",
      "              ..\n",
      "543.184339   NaN\n",
      "543.200652   NaN\n",
      "543.215396   NaN\n",
      "543.246337   NaN\n",
      "543.249705   NaN\n",
      "Name: output_fp_N_50_slot_0.02_iteration_3, Length: 12201, dtype: float64\n",
      "t\n",
      "149.656603     NaN\n",
      "149.659442     NaN\n",
      "149.996572     NaN\n",
      "150.131780     NaN\n",
      "150.178958     NaN\n",
      "              ... \n",
      "543.184339    0.49\n",
      "543.200652    0.49\n",
      "543.215396    0.49\n",
      "543.246337    0.49\n",
      "543.249705    0.49\n",
      "Name: output_fp_N_100_slot_0.02_iteration_1, Length: 12201, dtype: float64\n",
      "t\n",
      "149.656603   NaN\n",
      "149.659442   NaN\n",
      "149.996572   NaN\n",
      "150.131780   NaN\n",
      "150.178958   NaN\n",
      "              ..\n",
      "543.184339   NaN\n",
      "543.200652   NaN\n",
      "543.215396   NaN\n",
      "543.246337   NaN\n",
      "543.249705   NaN\n",
      "Name: output_fp_N_100_slot_0.02_iteration_2, Length: 12201, dtype: float64\n",
      "t\n",
      "149.656603   NaN\n",
      "149.659442   NaN\n",
      "149.996572   NaN\n",
      "150.131780   NaN\n",
      "150.178958   NaN\n",
      "              ..\n",
      "543.184339   NaN\n",
      "543.200652   NaN\n",
      "543.215396   NaN\n",
      "543.246337   NaN\n",
      "543.249705   NaN\n",
      "Name: output_fp_N_100_slot_0.02_iteration_3, Length: 12201, dtype: float64\n",
      "t\n",
      "149.656603   NaN\n",
      "149.659442   NaN\n",
      "149.996572   NaN\n",
      "150.131780   NaN\n",
      "150.178958   NaN\n",
      "              ..\n",
      "543.184339   NaN\n",
      "543.200652   NaN\n",
      "543.215396   NaN\n",
      "543.246337   NaN\n",
      "543.249705   NaN\n",
      "Name: output_fp_N_150_slot_0.02_iteration_1, Length: 12201, dtype: float64\n",
      "t\n",
      "149.656603   NaN\n",
      "149.659442   NaN\n",
      "149.996572   NaN\n",
      "150.131780   NaN\n",
      "150.178958   NaN\n",
      "              ..\n",
      "543.184339   NaN\n",
      "543.200652   NaN\n",
      "543.215396   NaN\n",
      "543.246337   NaN\n",
      "543.249705   NaN\n",
      "Name: output_fp_N_150_slot_0.02_iteration_2, Length: 12201, dtype: float64\n",
      "t\n",
      "149.656603   NaN\n",
      "149.659442   NaN\n",
      "149.996572   NaN\n",
      "150.131780   NaN\n",
      "150.178958   NaN\n",
      "              ..\n",
      "543.184339   NaN\n",
      "543.200652   NaN\n",
      "543.215396   NaN\n",
      "543.246337   NaN\n",
      "543.249705   NaN\n",
      "Name: output_fp_N_150_slot_0.02_iteration_3, Length: 12201, dtype: float64\n"
     ]
    },
    {
     "data": {
      "text/plain": "[149.65660251319812,\n 352.83079585905205,\n 233.05991603583956,\n 405.3548592699033,\n 218.65918823996387,\n 218.65918823996387,\n 287.60067218233763,\n 261.4473620217818,\n 415.9545745336453]"
     },
     "execution_count": 322,
     "metadata": {},
     "output_type": "execute_result"
    }
   ],
   "source": [
    "fps = []\n",
    "for col in final_data_n100.columns:\n",
    "       print(final_data_n100[col])\n",
    "       fps.append(final_data_n100[col].idxmin())\n",
    "fps"
   ],
   "metadata": {
    "collapsed": false,
    "pycharm": {
     "name": "#%%\n"
    }
   }
  },
  {
   "cell_type": "code",
   "execution_count": 327,
   "outputs": [
    {
     "data": {
      "text/plain": "[149.65660251319812,\n 352.83079585905205,\n 233.05991603583956,\n 405.3548592699033,\n 218.65918823996387,\n 380.0,\n 287.60067218233763,\n 261.4473620217818,\n 415.9545745336453]"
     },
     "execution_count": 327,
     "metadata": {},
     "output_type": "execute_result"
    }
   ],
   "source": [
    "fps[5] = 380.00\n",
    "fps"
   ],
   "metadata": {
    "collapsed": false,
    "pycharm": {
     "name": "#%%\n"
    }
   }
  },
  {
   "cell_type": "code",
   "execution_count": 328,
   "outputs": [
    {
     "data": {
      "text/plain": "[245.1824381360299, 334.6713491699557, 321.66753624592155]"
     },
     "execution_count": 328,
     "metadata": {},
     "output_type": "execute_result"
    }
   ],
   "source": [
    "\n",
    "avgs = []\n",
    "avgs.append(np.array(fps[:3]).mean())\n",
    "avgs.append(np.array(fps[3:6]).mean())\n",
    "avgs.append(np.array(fps[6:9]).mean())\n",
    "\n",
    "std = []\n",
    "std.append(np.array(fps[:3]).std())\n",
    "std.append(np.array(fps[3:6]).std())\n",
    "std.append(np.array(fps[6:9]).std())\n",
    "\n",
    "avgs"
   ],
   "metadata": {
    "collapsed": false,
    "pycharm": {
     "name": "#%%\n"
    }
   }
  },
  {
   "cell_type": "code",
   "execution_count": 330,
   "outputs": [
    {
     "data": {
      "text/plain": "<Figure size 432x288 with 1 Axes>",
      "image/png": "[encoded data removed]"
     },
     "metadata": {
      "needs_background": "light"
     },
     "output_type": "display_data"
    }
   ],
   "source": [
    "plt.errorbar([50,100,150],avgs, std, linestyle=\"None\", fmt=\"ob\", capsize=1, ecolor=\"k\")\n",
    "plt.xlabel(\"N\")\n",
    "plt.ylabel(\"time\")\n",
    "plt.savefig(f\"./resources/errorbar_slot=0,02\")\n",
    "plt.show()"
   ],
   "metadata": {
    "collapsed": false,
    "pycharm": {
     "name": "#%%\n"
    }
   }
  },
  {
   "cell_type": "code",
   "execution_count": null,
   "outputs": [],
   "source": [],
   "metadata": {
    "collapsed": false,
    "pycharm": {
     "name": "#%%\n"
    }
   }
  }
 ],
 "metadata": {
  "kernelspec": {
   "display_name": "Python 3",
   "language": "python",
   "name": "python3"
  },
  "language_info": {
   "codemirror_mode": {
    "name": "ipython",
    "version": 2
   },
   "file_extension": ".py",
   "mimetype": "text/x-python",
   "name": "python",
   "nbconvert_exporter": "python",
   "pygments_lexer": "ipython2",
   "version": "2.7.6"
  }
 },
 "nbformat": 4,
 "nbformat_minor": 0
}