{
 "cells": [
  {
   "cell_type": "markdown",
   "source": [
    "# Box Generator\n",
    "Se genera la caja para la simulación:"
   ],
   "metadata": {
    "collapsed": false
   }
  },
  {
   "cell_type": "code",
   "execution_count": null,
   "outputs": [],
   "source": [
    "def generate_box(width, height, slot):\n",
    "    s = \"\"\n",
    "    n = 0\n",
    "    with open('box.txt', 'w') as box:\n",
    "        for x in range(0, width):\n",
    "            s += (str(n) + \" \" + str(x / 1000) + \" \" + str(0 / 1000) + \"\\n\")\n",
    "            n += 1\n",
    "            s += (str(n) + \" \" + str(x / 1000) + \" \" + str(height / 1000) + \"\\n\")\n",
    "            n += 1\n",
    "        for y in range(0, height):\n",
    "            s += (str(n) + \" \" + str(0 / 1000) + \" \" + str(y / 1000) + \"\\n\")\n",
    "            n += 1\n",
    "            s += (str(n) + \" \" + str(width / 1000) + \" \" + str(y / 1000) + \"\\n\")\n",
    "            n += 1\n",
    "            if y > ((height / 2) + slot / 2) or y < ((height / 2) - slot / 2):\n",
    "                s += (str(n) + \" \" + str(width / 2000) + \" \" + str(y / 1000) + \"\\n\")\n",
    "                n += 1\n",
    "\n",
    "        print(s)\n",
    "\n",
    "        box.write(str(n - 1) + '\\n\\n')\n",
    "        box.write(s)\n",
    "        box.close()\n",
    "\n",
    "generate_box(240, 90, 10)\n"
   ],
   "metadata": {
    "collapsed": false
   }
  },
  {
   "cell_type": "code",
   "execution_count": null,
   "outputs": [],
   "source": [],
   "metadata": {
    "collapsed": false
   }
  },
  {
   "cell_type": "markdown",
   "source": [],
   "metadata": {
    "collapsed": false
   }
  }
 ],
 "metadata": {
  "kernelspec": {
   "display_name": "Python 3",
   "language": "python",
   "name": "python3"
  },
  "language_info": {
   "codemirror_mode": {
    "name": "ipython",
    "version": 2
   },
   "file_extension": ".py",
   "mimetype": "text/x-python",
   "name": "python",
   "nbconvert_exporter": "python",
   "pygments_lexer": "ipython2",
   "version": "2.7.6"
  }
 },
 "nbformat": 4,
 "nbformat_minor": 0
}
