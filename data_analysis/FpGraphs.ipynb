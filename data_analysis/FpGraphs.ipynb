{
 "cells": [
  {
   "cell_type": "code",
   "execution_count": 222,
   "metadata": {
    "collapsed": true
   },
   "outputs": [],
   "source": [
    "import numpy as np\n",
    "import pandas as pd"
   ]
  },
  {
   "cell_type": "code",
   "execution_count": 223,
   "outputs": [
    {
     "data": {
      "text/plain": "[                 t  fp_N_50_slot_0.01\n 0         0.000000               0.00\n 1         0.098081               0.00\n 2         0.099779               0.00\n 3         0.216178               0.00\n 4         0.218439               0.00\n ...            ...                ...\n 11436  1065.687803               0.54\n 11437  1065.722071               0.54\n 11438  1065.839732               0.54\n 11439  1065.950404               0.54\n 11440  1066.018727               0.54\n \n [11441 rows x 2 columns],\n                t  fp_N_50_slot_0.02\n 0       0.000000               0.00\n 1       0.030008               0.00\n 2       0.047421               0.00\n 3       0.146536               0.00\n 4       0.180032               0.00\n ...          ...                ...\n 4826  450.760415               0.56\n 4827  450.771746               0.56\n 4828  450.885758               0.56\n 4829  450.995719               0.56\n 4830  451.087702               0.56\n \n [4831 rows x 2 columns],\n              t  fp_N_50_slot_0.05\n 0     0.000000               0.00\n 1     0.038049               0.00\n 2     0.239779               0.00\n 3     0.363546               0.00\n 4     0.426528               0.00\n ..         ...                ...\n 992  92.661012               0.52\n 993  92.839906               0.52\n 994  92.854496               0.52\n 995  93.016149               0.52\n 996  93.029581               0.52\n \n [997 rows x 2 columns],\n                 t  fp_N_100_slot_0.01\n 0        0.000000                0.00\n 1        0.018554                0.00\n 2        0.039895                0.00\n 3        0.066027                0.00\n 4        0.066689                0.00\n ...           ...                 ...\n 29995  899.105871                0.44\n 29996  899.131540                0.44\n 29997  899.160959                0.44\n 29998  899.161617                0.44\n 29999  899.184695                0.44\n \n [30000 rows x 2 columns],\n                 t  fp_N_100_slot_0.02\n 0        0.000000                0.00\n 1        0.013595                0.00\n 2        0.036941                0.00\n 3        0.080913                0.00\n 4        0.093611                0.00\n ...           ...                 ...\n 19526  608.680223                0.44\n 19527  608.686457                0.44\n 19528  608.725244                0.44\n 19529  608.735164                0.44\n 19530  608.813281                0.44\n \n [19531 rows x 2 columns],\n               t  fp_N_100_slot_0.05\n 0      0.000000                0.00\n 1      0.009327                0.00\n 2      0.042178                0.00\n 3      0.044939                0.00\n 4      0.062114                0.00\n ...         ...                 ...\n 2437  75.269816                0.46\n 2438  75.290847                0.46\n 2439  75.323736                0.46\n 2440  75.454272                0.45\n 2441  75.547795                0.45\n \n [2442 rows x 2 columns],\n                 t  fp_N_150_slot_0.01\n 0        0.000000                0.00\n 1        0.016290                0.00\n 2        0.030053                0.00\n 3        0.039466                0.00\n 4        0.043229                0.00\n ...           ...                 ...\n 29995  390.574458                0.34\n 29996  390.584464                0.34\n 29997  390.587960                0.34\n 29998  390.590675                0.34\n 29999  390.592407                0.34\n \n [30000 rows x 2 columns],\n                 t  fp_N_150_slot_0.02\n 0        0.000000            0.000000\n 1        0.007151            0.000000\n 2        0.008734            0.000000\n 3        0.010058            0.000000\n 4        0.026237            0.000000\n ...           ...                 ...\n 29995  459.474245            0.473333\n 29996  459.517436            0.473333\n 29997  459.560437            0.473333\n 29998  459.564512            0.473333\n 29999  459.572086            0.480000\n \n [30000 rows x 2 columns],\n                 t  fp_N_150_slot_0.05\n 0        0.000000                0.00\n 1        0.005852                0.00\n 2        0.015627                0.00\n 3        0.020947                0.00\n 4        0.029486                0.00\n ...           ...                 ...\n 12800  201.804279                0.46\n 12801  201.805166                0.46\n 12802  201.806585                0.46\n 12803  201.893410                0.46\n 12804  201.901548                0.46\n \n [12805 rows x 2 columns]]"
     },
     "execution_count": 223,
     "metadata": {},
     "output_type": "execute_result"
    }
   ],
   "source": [
    "N = [50, 100, 150]\n",
    "slot = [0.01, 0.02, 0.05]\n",
    "data = []\n",
    "for n in N:\n",
    "    for s in slot:\n",
    "        aux = pd.read_csv(f\"../src/main/resources/output/fp/output_fp_N_{n}_slot_{s}.csv\")\n",
    "        aux = aux.rename(columns={'fp':f'fp_N_{n}_slot_{s}'})\n",
    "        data.append(aux)\n",
    "data"
   ],
   "metadata": {
    "collapsed": false,
    "pycharm": {
     "name": "#%%\n"
    }
   }
  },
  {
   "cell_type": "code",
   "execution_count": 224,
   "outputs": [
    {
     "data": {
      "text/plain": "['t',\n 'fp_N_50_slot_0.01',\n 'fp_N_50_slot_0.02',\n 'fp_N_50_slot_0.05',\n 'fp_N_100_slot_0.01',\n 'fp_N_100_slot_0.02',\n 'fp_N_100_slot_0.05',\n 'fp_N_150_slot_0.01',\n 'fp_N_150_slot_0.02',\n 'fp_N_150_slot_0.05']"
     },
     "execution_count": 224,
     "metadata": {},
     "output_type": "execute_result"
    }
   ],
   "source": [
    "columns = ['t']\n",
    "for n in N:\n",
    "    for s in slot:\n",
    "        columns.append(f'fp_N_{n}_slot_{s}')\n",
    "columns"
   ],
   "metadata": {
    "collapsed": false,
    "pycharm": {
     "name": "#%%\n"
    }
   }
  },
  {
   "cell_type": "code",
   "execution_count": 225,
   "outputs": [],
   "source": [
    "final_data = pd.concat(data,axis=0, ignore_index=True)"
   ],
   "metadata": {
    "collapsed": false,
    "pycharm": {
     "name": "#%%\n"
    }
   }
  },
  {
   "cell_type": "code",
   "execution_count": 226,
   "outputs": [
    {
     "data": {
      "text/plain": "            fp_N_50_slot_0.01  fp_N_50_slot_0.02  fp_N_50_slot_0.05  \\\nt                                                                     \n0.000000                  0.0                NaN                NaN   \n0.098081                  0.0                NaN                NaN   \n0.099779                  0.0                NaN                NaN   \n0.216178                  0.0                NaN                NaN   \n0.218439                  0.0                NaN                NaN   \n...                       ...                ...                ...   \n201.804279                NaN                NaN                NaN   \n201.805166                NaN                NaN                NaN   \n201.806585                NaN                NaN                NaN   \n201.893410                NaN                NaN                NaN   \n201.901548                NaN                NaN                NaN   \n\n            fp_N_100_slot_0.01  fp_N_100_slot_0.02  fp_N_100_slot_0.05  \\\nt                                                                        \n0.000000                   NaN                 NaN                 NaN   \n0.098081                   NaN                 NaN                 NaN   \n0.099779                   NaN                 NaN                 NaN   \n0.216178                   NaN                 NaN                 NaN   \n0.218439                   NaN                 NaN                 NaN   \n...                        ...                 ...                 ...   \n201.804279                 NaN                 NaN                 NaN   \n201.805166                 NaN                 NaN                 NaN   \n201.806585                 NaN                 NaN                 NaN   \n201.893410                 NaN                 NaN                 NaN   \n201.901548                 NaN                 NaN                 NaN   \n\n            fp_N_150_slot_0.01  fp_N_150_slot_0.02  fp_N_150_slot_0.05  \nt                                                                       \n0.000000                   NaN                 NaN                 NaN  \n0.098081                   NaN                 NaN                 NaN  \n0.099779                   NaN                 NaN                 NaN  \n0.216178                   NaN                 NaN                 NaN  \n0.218439                   NaN                 NaN                 NaN  \n...                        ...                 ...                 ...  \n201.804279                 NaN                 NaN                0.46  \n201.805166                 NaN                 NaN                0.46  \n201.806585                 NaN                 NaN                0.46  \n201.893410                 NaN                 NaN                0.46  \n201.901548                 NaN                 NaN                0.46  \n\n[142047 rows x 9 columns]",
      "text/html": "<div>\n<style scoped>\n    .dataframe tbody tr th:only-of-type {\n        vertical-align: middle;\n    }\n\n    .dataframe tbody tr th {\n        vertical-align: top;\n    }\n\n    .dataframe thead th {\n        text-align: right;\n    }\n</style>\n<table border=\"1\" class=\"dataframe\">\n  <thead>\n    <tr style=\"text-align: right;\">\n      <th></th>\n      <th>fp_N_50_slot_0.01</th>\n      <th>fp_N_50_slot_0.02</th>\n      <th>fp_N_50_slot_0.05</th>\n      <th>fp_N_100_slot_0.01</th>\n      <th>fp_N_100_slot_0.02</th>\n      <th>fp_N_100_slot_0.05</th>\n      <th>fp_N_150_slot_0.01</th>\n      <th>fp_N_150_slot_0.02</th>\n      <th>fp_N_150_slot_0.05</th>\n    </tr>\n    <tr>\n      <th>t</th>\n      <th></th>\n      <th></th>\n      <th></th>\n      <th></th>\n      <th></th>\n      <th></th>\n      <th></th>\n      <th></th>\n      <th></th>\n    </tr>\n  </thead>\n  <tbody>\n    <tr>\n      <th>0.000000</th>\n      <td>0.0</td>\n      <td>NaN</td>\n      <td>NaN</td>\n      <td>NaN</td>\n      <td>NaN</td>\n      <td>NaN</td>\n      <td>NaN</td>\n      <td>NaN</td>\n      <td>NaN</td>\n    </tr>\n    <tr>\n      <th>0.098081</th>\n      <td>0.0</td>\n      <td>NaN</td>\n      <td>NaN</td>\n      <td>NaN</td>\n      <td>NaN</td>\n      <td>NaN</td>\n      <td>NaN</td>\n      <td>NaN</td>\n      <td>NaN</td>\n    </tr>\n    <tr>\n      <th>0.099779</th>\n      <td>0.0</td>\n      <td>NaN</td>\n      <td>NaN</td>\n      <td>NaN</td>\n      <td>NaN</td>\n      <td>NaN</td>\n      <td>NaN</td>\n      <td>NaN</td>\n      <td>NaN</td>\n    </tr>\n    <tr>\n      <th>0.216178</th>\n      <td>0.0</td>\n      <td>NaN</td>\n      <td>NaN</td>\n      <td>NaN</td>\n      <td>NaN</td>\n      <td>NaN</td>\n      <td>NaN</td>\n      <td>NaN</td>\n      <td>NaN</td>\n    </tr>\n    <tr>\n      <th>0.218439</th>\n      <td>0.0</td>\n      <td>NaN</td>\n      <td>NaN</td>\n      <td>NaN</td>\n      <td>NaN</td>\n      <td>NaN</td>\n      <td>NaN</td>\n      <td>NaN</td>\n      <td>NaN</td>\n    </tr>\n    <tr>\n      <th>...</th>\n      <td>...</td>\n      <td>...</td>\n      <td>...</td>\n      <td>...</td>\n      <td>...</td>\n      <td>...</td>\n      <td>...</td>\n      <td>...</td>\n      <td>...</td>\n    </tr>\n    <tr>\n      <th>201.804279</th>\n      <td>NaN</td>\n      <td>NaN</td>\n      <td>NaN</td>\n      <td>NaN</td>\n      <td>NaN</td>\n      <td>NaN</td>\n      <td>NaN</td>\n      <td>NaN</td>\n      <td>0.46</td>\n    </tr>\n    <tr>\n      <th>201.805166</th>\n      <td>NaN</td>\n      <td>NaN</td>\n      <td>NaN</td>\n      <td>NaN</td>\n      <td>NaN</td>\n      <td>NaN</td>\n      <td>NaN</td>\n      <td>NaN</td>\n      <td>0.46</td>\n    </tr>\n    <tr>\n      <th>201.806585</th>\n      <td>NaN</td>\n      <td>NaN</td>\n      <td>NaN</td>\n      <td>NaN</td>\n      <td>NaN</td>\n      <td>NaN</td>\n      <td>NaN</td>\n      <td>NaN</td>\n      <td>0.46</td>\n    </tr>\n    <tr>\n      <th>201.893410</th>\n      <td>NaN</td>\n      <td>NaN</td>\n      <td>NaN</td>\n      <td>NaN</td>\n      <td>NaN</td>\n      <td>NaN</td>\n      <td>NaN</td>\n      <td>NaN</td>\n      <td>0.46</td>\n    </tr>\n    <tr>\n      <th>201.901548</th>\n      <td>NaN</td>\n      <td>NaN</td>\n      <td>NaN</td>\n      <td>NaN</td>\n      <td>NaN</td>\n      <td>NaN</td>\n      <td>NaN</td>\n      <td>NaN</td>\n      <td>0.46</td>\n    </tr>\n  </tbody>\n</table>\n<p>142047 rows × 9 columns</p>\n</div>"
     },
     "execution_count": 226,
     "metadata": {},
     "output_type": "execute_result"
    }
   ],
   "source": [
    "final_data.set_index('t')"
   ],
   "metadata": {
    "collapsed": false,
    "pycharm": {
     "name": "#%%\n"
    }
   }
  },
  {
   "cell_type": "code",
   "execution_count": 227,
   "outputs": [],
   "source": [
    "final_data = final_data.sort_values(by='t')"
   ],
   "metadata": {
    "collapsed": false,
    "pycharm": {
     "name": "#%%\n"
    }
   }
  },
  {
   "cell_type": "code",
   "execution_count": 228,
   "outputs": [],
   "source": [
    "final_data = final_data.set_index('t').groupby(level=0,dropna=False).sum(min_count=1)"
   ],
   "metadata": {
    "collapsed": false,
    "pycharm": {
     "name": "#%%\n"
    }
   }
  },
  {
   "cell_type": "code",
   "execution_count": 229,
   "outputs": [
    {
     "data": {
      "text/plain": "             fp_N_50_slot_0.01  fp_N_50_slot_0.02  fp_N_50_slot_0.05  \\\nt                                                                      \n0.000000                  0.00                0.0                0.0   \n0.005852                   NaN                NaN                NaN   \n0.007151                   NaN                NaN                NaN   \n0.008734                   NaN                NaN                NaN   \n0.009327                   NaN                NaN                NaN   \n...                        ...                ...                ...   \n1065.687803               0.54                NaN                NaN   \n1065.722071               0.54                NaN                NaN   \n1065.839732               0.54                NaN                NaN   \n1065.950404               0.54                NaN                NaN   \n1066.018727               0.54                NaN                NaN   \n\n             fp_N_100_slot_0.01  fp_N_100_slot_0.02  fp_N_100_slot_0.05  \\\nt                                                                         \n0.000000                    0.0                 0.0                 0.0   \n0.005852                    NaN                 NaN                 NaN   \n0.007151                    NaN                 NaN                 NaN   \n0.008734                    NaN                 NaN                 NaN   \n0.009327                    NaN                 NaN                 0.0   \n...                         ...                 ...                 ...   \n1065.687803                 NaN                 NaN                 NaN   \n1065.722071                 NaN                 NaN                 NaN   \n1065.839732                 NaN                 NaN                 NaN   \n1065.950404                 NaN                 NaN                 NaN   \n1066.018727                 NaN                 NaN                 NaN   \n\n             fp_N_150_slot_0.01  fp_N_150_slot_0.02  fp_N_150_slot_0.05  \nt                                                                        \n0.000000                    0.0                 0.0                 0.0  \n0.005852                    NaN                 NaN                 0.0  \n0.007151                    NaN                 0.0                 NaN  \n0.008734                    NaN                 0.0                 NaN  \n0.009327                    NaN                 NaN                 NaN  \n...                         ...                 ...                 ...  \n1065.687803                 NaN                 NaN                 NaN  \n1065.722071                 NaN                 NaN                 NaN  \n1065.839732                 NaN                 NaN                 NaN  \n1065.950404                 NaN                 NaN                 NaN  \n1066.018727                 NaN                 NaN                 NaN  \n\n[142039 rows x 9 columns]",
      "text/html": "<div>\n<style scoped>\n    .dataframe tbody tr th:only-of-type {\n        vertical-align: middle;\n    }\n\n    .dataframe tbody tr th {\n        vertical-align: top;\n    }\n\n    .dataframe thead th {\n        text-align: right;\n    }\n</style>\n<table border=\"1\" class=\"dataframe\">\n  <thead>\n    <tr style=\"text-align: right;\">\n      <th></th>\n      <th>fp_N_50_slot_0.01</th>\n      <th>fp_N_50_slot_0.02</th>\n      <th>fp_N_50_slot_0.05</th>\n      <th>fp_N_100_slot_0.01</th>\n      <th>fp_N_100_slot_0.02</th>\n      <th>fp_N_100_slot_0.05</th>\n      <th>fp_N_150_slot_0.01</th>\n      <th>fp_N_150_slot_0.02</th>\n      <th>fp_N_150_slot_0.05</th>\n    </tr>\n    <tr>\n      <th>t</th>\n      <th></th>\n      <th></th>\n      <th></th>\n      <th></th>\n      <th></th>\n      <th></th>\n      <th></th>\n      <th></th>\n      <th></th>\n    </tr>\n  </thead>\n  <tbody>\n    <tr>\n      <th>0.000000</th>\n      <td>0.00</td>\n      <td>0.0</td>\n      <td>0.0</td>\n      <td>0.0</td>\n      <td>0.0</td>\n      <td>0.0</td>\n      <td>0.0</td>\n      <td>0.0</td>\n      <td>0.0</td>\n    </tr>\n    <tr>\n      <th>0.005852</th>\n      <td>NaN</td>\n      <td>NaN</td>\n      <td>NaN</td>\n      <td>NaN</td>\n      <td>NaN</td>\n      <td>NaN</td>\n      <td>NaN</td>\n      <td>NaN</td>\n      <td>0.0</td>\n    </tr>\n    <tr>\n      <th>0.007151</th>\n      <td>NaN</td>\n      <td>NaN</td>\n      <td>NaN</td>\n      <td>NaN</td>\n      <td>NaN</td>\n      <td>NaN</td>\n      <td>NaN</td>\n      <td>0.0</td>\n      <td>NaN</td>\n    </tr>\n    <tr>\n      <th>0.008734</th>\n      <td>NaN</td>\n      <td>NaN</td>\n      <td>NaN</td>\n      <td>NaN</td>\n      <td>NaN</td>\n      <td>NaN</td>\n      <td>NaN</td>\n      <td>0.0</td>\n      <td>NaN</td>\n    </tr>\n    <tr>\n      <th>0.009327</th>\n      <td>NaN</td>\n      <td>NaN</td>\n      <td>NaN</td>\n      <td>NaN</td>\n      <td>NaN</td>\n      <td>0.0</td>\n      <td>NaN</td>\n      <td>NaN</td>\n      <td>NaN</td>\n    </tr>\n    <tr>\n      <th>...</th>\n      <td>...</td>\n      <td>...</td>\n      <td>...</td>\n      <td>...</td>\n      <td>...</td>\n      <td>...</td>\n      <td>...</td>\n      <td>...</td>\n      <td>...</td>\n    </tr>\n    <tr>\n      <th>1065.687803</th>\n      <td>0.54</td>\n      <td>NaN</td>\n      <td>NaN</td>\n      <td>NaN</td>\n      <td>NaN</td>\n      <td>NaN</td>\n      <td>NaN</td>\n      <td>NaN</td>\n      <td>NaN</td>\n    </tr>\n    <tr>\n      <th>1065.722071</th>\n      <td>0.54</td>\n      <td>NaN</td>\n      <td>NaN</td>\n      <td>NaN</td>\n      <td>NaN</td>\n      <td>NaN</td>\n      <td>NaN</td>\n      <td>NaN</td>\n      <td>NaN</td>\n    </tr>\n    <tr>\n      <th>1065.839732</th>\n      <td>0.54</td>\n      <td>NaN</td>\n      <td>NaN</td>\n      <td>NaN</td>\n      <td>NaN</td>\n      <td>NaN</td>\n      <td>NaN</td>\n      <td>NaN</td>\n      <td>NaN</td>\n    </tr>\n    <tr>\n      <th>1065.950404</th>\n      <td>0.54</td>\n      <td>NaN</td>\n      <td>NaN</td>\n      <td>NaN</td>\n      <td>NaN</td>\n      <td>NaN</td>\n      <td>NaN</td>\n      <td>NaN</td>\n      <td>NaN</td>\n    </tr>\n    <tr>\n      <th>1066.018727</th>\n      <td>0.54</td>\n      <td>NaN</td>\n      <td>NaN</td>\n      <td>NaN</td>\n      <td>NaN</td>\n      <td>NaN</td>\n      <td>NaN</td>\n      <td>NaN</td>\n      <td>NaN</td>\n    </tr>\n  </tbody>\n</table>\n<p>142039 rows × 9 columns</p>\n</div>"
     },
     "execution_count": 229,
     "metadata": {},
     "output_type": "execute_result"
    }
   ],
   "source": [
    "final_data"
   ],
   "metadata": {
    "collapsed": false,
    "pycharm": {
     "name": "#%%\n"
    }
   }
  },
  {
   "cell_type": "code",
   "execution_count": 230,
   "outputs": [
    {
     "data": {
      "text/plain": "             fp_N_50_slot_0.01  fp_N_50_slot_0.02  fp_N_50_slot_0.05  \\\nt                                                                      \n0.000000                  0.00                0.0                0.0   \n0.005852                   NaN                NaN                NaN   \n0.007151                   NaN                NaN                NaN   \n0.008734                   NaN                NaN                NaN   \n0.009327                   NaN                NaN                NaN   \n...                        ...                ...                ...   \n1065.687803               0.54                NaN                NaN   \n1065.722071               0.54                NaN                NaN   \n1065.839732               0.54                NaN                NaN   \n1065.950404               0.54                NaN                NaN   \n1066.018727               0.54                NaN                NaN   \n\n             fp_N_100_slot_0.01  fp_N_100_slot_0.02  fp_N_100_slot_0.05  \\\nt                                                                         \n0.000000                    0.0                 0.0                 0.0   \n0.005852                    NaN                 NaN                 NaN   \n0.007151                    NaN                 NaN                 NaN   \n0.008734                    NaN                 NaN                 NaN   \n0.009327                    NaN                 NaN                 0.0   \n...                         ...                 ...                 ...   \n1065.687803                 NaN                 NaN                 NaN   \n1065.722071                 NaN                 NaN                 NaN   \n1065.839732                 NaN                 NaN                 NaN   \n1065.950404                 NaN                 NaN                 NaN   \n1066.018727                 NaN                 NaN                 NaN   \n\n             fp_N_150_slot_0.01  fp_N_150_slot_0.02  fp_N_150_slot_0.05  \nt                                                                        \n0.000000                    0.0                 0.0                 0.0  \n0.005852                    NaN                 NaN                 0.0  \n0.007151                    NaN                 0.0                 NaN  \n0.008734                    NaN                 0.0                 NaN  \n0.009327                    NaN                 NaN                 NaN  \n...                         ...                 ...                 ...  \n1065.687803                 NaN                 NaN                 NaN  \n1065.722071                 NaN                 NaN                 NaN  \n1065.839732                 NaN                 NaN                 NaN  \n1065.950404                 NaN                 NaN                 NaN  \n1066.018727                 NaN                 NaN                 NaN  \n\n[142039 rows x 9 columns]",
      "text/html": "<div>\n<style scoped>\n    .dataframe tbody tr th:only-of-type {\n        vertical-align: middle;\n    }\n\n    .dataframe tbody tr th {\n        vertical-align: top;\n    }\n\n    .dataframe thead th {\n        text-align: right;\n    }\n</style>\n<table border=\"1\" class=\"dataframe\">\n  <thead>\n    <tr style=\"text-align: right;\">\n      <th></th>\n      <th>fp_N_50_slot_0.01</th>\n      <th>fp_N_50_slot_0.02</th>\n      <th>fp_N_50_slot_0.05</th>\n      <th>fp_N_100_slot_0.01</th>\n      <th>fp_N_100_slot_0.02</th>\n      <th>fp_N_100_slot_0.05</th>\n      <th>fp_N_150_slot_0.01</th>\n      <th>fp_N_150_slot_0.02</th>\n      <th>fp_N_150_slot_0.05</th>\n    </tr>\n    <tr>\n      <th>t</th>\n      <th></th>\n      <th></th>\n      <th></th>\n      <th></th>\n      <th></th>\n      <th></th>\n      <th></th>\n      <th></th>\n      <th></th>\n    </tr>\n  </thead>\n  <tbody>\n    <tr>\n      <th>0.000000</th>\n      <td>0.00</td>\n      <td>0.0</td>\n      <td>0.0</td>\n      <td>0.0</td>\n      <td>0.0</td>\n      <td>0.0</td>\n      <td>0.0</td>\n      <td>0.0</td>\n      <td>0.0</td>\n    </tr>\n    <tr>\n      <th>0.005852</th>\n      <td>NaN</td>\n      <td>NaN</td>\n      <td>NaN</td>\n      <td>NaN</td>\n      <td>NaN</td>\n      <td>NaN</td>\n      <td>NaN</td>\n      <td>NaN</td>\n      <td>0.0</td>\n    </tr>\n    <tr>\n      <th>0.007151</th>\n      <td>NaN</td>\n      <td>NaN</td>\n      <td>NaN</td>\n      <td>NaN</td>\n      <td>NaN</td>\n      <td>NaN</td>\n      <td>NaN</td>\n      <td>0.0</td>\n      <td>NaN</td>\n    </tr>\n    <tr>\n      <th>0.008734</th>\n      <td>NaN</td>\n      <td>NaN</td>\n      <td>NaN</td>\n      <td>NaN</td>\n      <td>NaN</td>\n      <td>NaN</td>\n      <td>NaN</td>\n      <td>0.0</td>\n      <td>NaN</td>\n    </tr>\n    <tr>\n      <th>0.009327</th>\n      <td>NaN</td>\n      <td>NaN</td>\n      <td>NaN</td>\n      <td>NaN</td>\n      <td>NaN</td>\n      <td>0.0</td>\n      <td>NaN</td>\n      <td>NaN</td>\n      <td>NaN</td>\n    </tr>\n    <tr>\n      <th>...</th>\n      <td>...</td>\n      <td>...</td>\n      <td>...</td>\n      <td>...</td>\n      <td>...</td>\n      <td>...</td>\n      <td>...</td>\n      <td>...</td>\n      <td>...</td>\n    </tr>\n    <tr>\n      <th>1065.687803</th>\n      <td>0.54</td>\n      <td>NaN</td>\n      <td>NaN</td>\n      <td>NaN</td>\n      <td>NaN</td>\n      <td>NaN</td>\n      <td>NaN</td>\n      <td>NaN</td>\n      <td>NaN</td>\n    </tr>\n    <tr>\n      <th>1065.722071</th>\n      <td>0.54</td>\n      <td>NaN</td>\n      <td>NaN</td>\n      <td>NaN</td>\n      <td>NaN</td>\n      <td>NaN</td>\n      <td>NaN</td>\n      <td>NaN</td>\n      <td>NaN</td>\n    </tr>\n    <tr>\n      <th>1065.839732</th>\n      <td>0.54</td>\n      <td>NaN</td>\n      <td>NaN</td>\n      <td>NaN</td>\n      <td>NaN</td>\n      <td>NaN</td>\n      <td>NaN</td>\n      <td>NaN</td>\n      <td>NaN</td>\n    </tr>\n    <tr>\n      <th>1065.950404</th>\n      <td>0.54</td>\n      <td>NaN</td>\n      <td>NaN</td>\n      <td>NaN</td>\n      <td>NaN</td>\n      <td>NaN</td>\n      <td>NaN</td>\n      <td>NaN</td>\n      <td>NaN</td>\n    </tr>\n    <tr>\n      <th>1066.018727</th>\n      <td>0.54</td>\n      <td>NaN</td>\n      <td>NaN</td>\n      <td>NaN</td>\n      <td>NaN</td>\n      <td>NaN</td>\n      <td>NaN</td>\n      <td>NaN</td>\n      <td>NaN</td>\n    </tr>\n  </tbody>\n</table>\n<p>142039 rows × 9 columns</p>\n</div>"
     },
     "execution_count": 230,
     "metadata": {},
     "output_type": "execute_result"
    }
   ],
   "source": [
    "final_data"
   ],
   "metadata": {
    "collapsed": false,
    "pycharm": {
     "name": "#%%\n"
    }
   }
  },
  {
   "cell_type": "code",
   "execution_count": 231,
   "outputs": [
    {
     "data": {
      "text/plain": "             fp_N_50_slot_0.01  fp_N_50_slot_0.02  fp_N_50_slot_0.05  \\\nt                                                                      \n0.000000                  0.00                0.0                0.0   \n0.005852                   NaN                NaN                NaN   \n0.007151                   NaN                NaN                NaN   \n0.008734                   NaN                NaN                NaN   \n0.009327                   NaN                NaN                NaN   \n...                        ...                ...                ...   \n1065.687803               0.54                NaN                NaN   \n1065.722071               0.54                NaN                NaN   \n1065.839732               0.54                NaN                NaN   \n1065.950404               0.54                NaN                NaN   \n1066.018727               0.54                NaN                NaN   \n\n             fp_N_100_slot_0.01  fp_N_100_slot_0.02  fp_N_100_slot_0.05  \\\nt                                                                         \n0.000000                    0.0                 0.0                 0.0   \n0.005852                    NaN                 NaN                 NaN   \n0.007151                    NaN                 NaN                 NaN   \n0.008734                    NaN                 NaN                 NaN   \n0.009327                    NaN                 NaN                 0.0   \n...                         ...                 ...                 ...   \n1065.687803                 NaN                 NaN                 NaN   \n1065.722071                 NaN                 NaN                 NaN   \n1065.839732                 NaN                 NaN                 NaN   \n1065.950404                 NaN                 NaN                 NaN   \n1066.018727                 NaN                 NaN                 NaN   \n\n             fp_N_150_slot_0.01  fp_N_150_slot_0.02  fp_N_150_slot_0.05  \nt                                                                        \n0.000000                    0.0                 0.0                 0.0  \n0.005852                    NaN                 NaN                 0.0  \n0.007151                    NaN                 0.0                 NaN  \n0.008734                    NaN                 0.0                 NaN  \n0.009327                    NaN                 NaN                 NaN  \n...                         ...                 ...                 ...  \n1065.687803                 NaN                 NaN                 NaN  \n1065.722071                 NaN                 NaN                 NaN  \n1065.839732                 NaN                 NaN                 NaN  \n1065.950404                 NaN                 NaN                 NaN  \n1066.018727                 NaN                 NaN                 NaN  \n\n[142039 rows x 9 columns]",
      "text/html": "<div>\n<style scoped>\n    .dataframe tbody tr th:only-of-type {\n        vertical-align: middle;\n    }\n\n    .dataframe tbody tr th {\n        vertical-align: top;\n    }\n\n    .dataframe thead th {\n        text-align: right;\n    }\n</style>\n<table border=\"1\" class=\"dataframe\">\n  <thead>\n    <tr style=\"text-align: right;\">\n      <th></th>\n      <th>fp_N_50_slot_0.01</th>\n      <th>fp_N_50_slot_0.02</th>\n      <th>fp_N_50_slot_0.05</th>\n      <th>fp_N_100_slot_0.01</th>\n      <th>fp_N_100_slot_0.02</th>\n      <th>fp_N_100_slot_0.05</th>\n      <th>fp_N_150_slot_0.01</th>\n      <th>fp_N_150_slot_0.02</th>\n      <th>fp_N_150_slot_0.05</th>\n    </tr>\n    <tr>\n      <th>t</th>\n      <th></th>\n      <th></th>\n      <th></th>\n      <th></th>\n      <th></th>\n      <th></th>\n      <th></th>\n      <th></th>\n      <th></th>\n    </tr>\n  </thead>\n  <tbody>\n    <tr>\n      <th>0.000000</th>\n      <td>0.00</td>\n      <td>0.0</td>\n      <td>0.0</td>\n      <td>0.0</td>\n      <td>0.0</td>\n      <td>0.0</td>\n      <td>0.0</td>\n      <td>0.0</td>\n      <td>0.0</td>\n    </tr>\n    <tr>\n      <th>0.005852</th>\n      <td>NaN</td>\n      <td>NaN</td>\n      <td>NaN</td>\n      <td>NaN</td>\n      <td>NaN</td>\n      <td>NaN</td>\n      <td>NaN</td>\n      <td>NaN</td>\n      <td>0.0</td>\n    </tr>\n    <tr>\n      <th>0.007151</th>\n      <td>NaN</td>\n      <td>NaN</td>\n      <td>NaN</td>\n      <td>NaN</td>\n      <td>NaN</td>\n      <td>NaN</td>\n      <td>NaN</td>\n      <td>0.0</td>\n      <td>NaN</td>\n    </tr>\n    <tr>\n      <th>0.008734</th>\n      <td>NaN</td>\n      <td>NaN</td>\n      <td>NaN</td>\n      <td>NaN</td>\n      <td>NaN</td>\n      <td>NaN</td>\n      <td>NaN</td>\n      <td>0.0</td>\n      <td>NaN</td>\n    </tr>\n    <tr>\n      <th>0.009327</th>\n      <td>NaN</td>\n      <td>NaN</td>\n      <td>NaN</td>\n      <td>NaN</td>\n      <td>NaN</td>\n      <td>0.0</td>\n      <td>NaN</td>\n      <td>NaN</td>\n      <td>NaN</td>\n    </tr>\n    <tr>\n      <th>...</th>\n      <td>...</td>\n      <td>...</td>\n      <td>...</td>\n      <td>...</td>\n      <td>...</td>\n      <td>...</td>\n      <td>...</td>\n      <td>...</td>\n      <td>...</td>\n    </tr>\n    <tr>\n      <th>1065.687803</th>\n      <td>0.54</td>\n      <td>NaN</td>\n      <td>NaN</td>\n      <td>NaN</td>\n      <td>NaN</td>\n      <td>NaN</td>\n      <td>NaN</td>\n      <td>NaN</td>\n      <td>NaN</td>\n    </tr>\n    <tr>\n      <th>1065.722071</th>\n      <td>0.54</td>\n      <td>NaN</td>\n      <td>NaN</td>\n      <td>NaN</td>\n      <td>NaN</td>\n      <td>NaN</td>\n      <td>NaN</td>\n      <td>NaN</td>\n      <td>NaN</td>\n    </tr>\n    <tr>\n      <th>1065.839732</th>\n      <td>0.54</td>\n      <td>NaN</td>\n      <td>NaN</td>\n      <td>NaN</td>\n      <td>NaN</td>\n      <td>NaN</td>\n      <td>NaN</td>\n      <td>NaN</td>\n      <td>NaN</td>\n    </tr>\n    <tr>\n      <th>1065.950404</th>\n      <td>0.54</td>\n      <td>NaN</td>\n      <td>NaN</td>\n      <td>NaN</td>\n      <td>NaN</td>\n      <td>NaN</td>\n      <td>NaN</td>\n      <td>NaN</td>\n      <td>NaN</td>\n    </tr>\n    <tr>\n      <th>1066.018727</th>\n      <td>0.54</td>\n      <td>NaN</td>\n      <td>NaN</td>\n      <td>NaN</td>\n      <td>NaN</td>\n      <td>NaN</td>\n      <td>NaN</td>\n      <td>NaN</td>\n      <td>NaN</td>\n    </tr>\n  </tbody>\n</table>\n<p>142039 rows × 9 columns</p>\n</div>"
     },
     "execution_count": 231,
     "metadata": {},
     "output_type": "execute_result"
    }
   ],
   "source": [
    "final_data"
   ],
   "metadata": {
    "collapsed": false,
    "pycharm": {
     "name": "#%%\n"
    }
   }
  },
  {
   "cell_type": "code",
   "execution_count": 232,
   "outputs": [
    {
     "data": {
      "text/plain": "             fp_N_50_slot_0.02  fp_N_100_slot_0.02  fp_N_150_slot_0.02\nt                                                                     \n0.000000                   0.0                 0.0                 0.0\n0.005852                   NaN                 NaN                 NaN\n0.007151                   NaN                 NaN                 0.0\n0.008734                   NaN                 NaN                 0.0\n0.009327                   NaN                 NaN                 NaN\n...                        ...                 ...                 ...\n1065.687803                NaN                 NaN                 NaN\n1065.722071                NaN                 NaN                 NaN\n1065.839732                NaN                 NaN                 NaN\n1065.950404                NaN                 NaN                 NaN\n1066.018727                NaN                 NaN                 NaN\n\n[142039 rows x 3 columns]",
      "text/html": "<div>\n<style scoped>\n    .dataframe tbody tr th:only-of-type {\n        vertical-align: middle;\n    }\n\n    .dataframe tbody tr th {\n        vertical-align: top;\n    }\n\n    .dataframe thead th {\n        text-align: right;\n    }\n</style>\n<table border=\"1\" class=\"dataframe\">\n  <thead>\n    <tr style=\"text-align: right;\">\n      <th></th>\n      <th>fp_N_50_slot_0.02</th>\n      <th>fp_N_100_slot_0.02</th>\n      <th>fp_N_150_slot_0.02</th>\n    </tr>\n    <tr>\n      <th>t</th>\n      <th></th>\n      <th></th>\n      <th></th>\n    </tr>\n  </thead>\n  <tbody>\n    <tr>\n      <th>0.000000</th>\n      <td>0.0</td>\n      <td>0.0</td>\n      <td>0.0</td>\n    </tr>\n    <tr>\n      <th>0.005852</th>\n      <td>NaN</td>\n      <td>NaN</td>\n      <td>NaN</td>\n    </tr>\n    <tr>\n      <th>0.007151</th>\n      <td>NaN</td>\n      <td>NaN</td>\n      <td>0.0</td>\n    </tr>\n    <tr>\n      <th>0.008734</th>\n      <td>NaN</td>\n      <td>NaN</td>\n      <td>0.0</td>\n    </tr>\n    <tr>\n      <th>0.009327</th>\n      <td>NaN</td>\n      <td>NaN</td>\n      <td>NaN</td>\n    </tr>\n    <tr>\n      <th>...</th>\n      <td>...</td>\n      <td>...</td>\n      <td>...</td>\n    </tr>\n    <tr>\n      <th>1065.687803</th>\n      <td>NaN</td>\n      <td>NaN</td>\n      <td>NaN</td>\n    </tr>\n    <tr>\n      <th>1065.722071</th>\n      <td>NaN</td>\n      <td>NaN</td>\n      <td>NaN</td>\n    </tr>\n    <tr>\n      <th>1065.839732</th>\n      <td>NaN</td>\n      <td>NaN</td>\n      <td>NaN</td>\n    </tr>\n    <tr>\n      <th>1065.950404</th>\n      <td>NaN</td>\n      <td>NaN</td>\n      <td>NaN</td>\n    </tr>\n    <tr>\n      <th>1066.018727</th>\n      <td>NaN</td>\n      <td>NaN</td>\n      <td>NaN</td>\n    </tr>\n  </tbody>\n</table>\n<p>142039 rows × 3 columns</p>\n</div>"
     },
     "execution_count": 232,
     "metadata": {},
     "output_type": "execute_result"
    }
   ],
   "source": [
    "slot1 = [x for x in columns if x not in ['t','fp_N_150_slot_0.02','fp_N_50_slot_0.02','fp_N_100_slot_0.02']]\n",
    "final_data_slot1 = final_data.drop(columns=slot1)\n",
    "final_data_slot1"
   ],
   "metadata": {
    "collapsed": false,
    "pycharm": {
     "name": "#%%\n"
    }
   }
  },
  {
   "cell_type": "code",
   "execution_count": 233,
   "outputs": [
    {
     "data": {
      "text/plain": "Index(['fp_N_50_slot_0.02', 'fp_N_100_slot_0.02', 'fp_N_150_slot_0.02'], dtype='object')"
     },
     "execution_count": 233,
     "metadata": {},
     "output_type": "execute_result"
    }
   ],
   "source": [
    "final_data_slot1.columns"
   ],
   "metadata": {
    "collapsed": false,
    "pycharm": {
     "name": "#%%\n"
    }
   }
  },
  {
   "cell_type": "code",
   "execution_count": 234,
   "outputs": [],
   "source": [
    "final_data_slot1 = final_data_slot1.dropna(axis=0, how='all')"
   ],
   "metadata": {
    "collapsed": false,
    "pycharm": {
     "name": "#%%\n"
    }
   }
  },
  {
   "cell_type": "code",
   "execution_count": 235,
   "outputs": [
    {
     "data": {
      "text/plain": "            fp_N_50_slot_0.02  fp_N_100_slot_0.02  fp_N_150_slot_0.02\nt                                                                    \n0.000000                  0.0                0.00                 0.0\n0.007151                  NaN                 NaN                 0.0\n0.008734                  NaN                 NaN                 0.0\n0.010058                  NaN                 NaN                 0.0\n0.013595                  NaN                0.00                 NaN\n...                       ...                 ...                 ...\n608.680223                NaN                0.44                 NaN\n608.686457                NaN                0.44                 NaN\n608.725244                NaN                0.44                 NaN\n608.735164                NaN                0.44                 NaN\n608.813281                NaN                0.44                 NaN\n\n[54360 rows x 3 columns]",
      "text/html": "<div>\n<style scoped>\n    .dataframe tbody tr th:only-of-type {\n        vertical-align: middle;\n    }\n\n    .dataframe tbody tr th {\n        vertical-align: top;\n    }\n\n    .dataframe thead th {\n        text-align: right;\n    }\n</style>\n<table border=\"1\" class=\"dataframe\">\n  <thead>\n    <tr style=\"text-align: right;\">\n      <th></th>\n      <th>fp_N_50_slot_0.02</th>\n      <th>fp_N_100_slot_0.02</th>\n      <th>fp_N_150_slot_0.02</th>\n    </tr>\n    <tr>\n      <th>t</th>\n      <th></th>\n      <th></th>\n      <th></th>\n    </tr>\n  </thead>\n  <tbody>\n    <tr>\n      <th>0.000000</th>\n      <td>0.0</td>\n      <td>0.00</td>\n      <td>0.0</td>\n    </tr>\n    <tr>\n      <th>0.007151</th>\n      <td>NaN</td>\n      <td>NaN</td>\n      <td>0.0</td>\n    </tr>\n    <tr>\n      <th>0.008734</th>\n      <td>NaN</td>\n      <td>NaN</td>\n      <td>0.0</td>\n    </tr>\n    <tr>\n      <th>0.010058</th>\n      <td>NaN</td>\n      <td>NaN</td>\n      <td>0.0</td>\n    </tr>\n    <tr>\n      <th>0.013595</th>\n      <td>NaN</td>\n      <td>0.00</td>\n      <td>NaN</td>\n    </tr>\n    <tr>\n      <th>...</th>\n      <td>...</td>\n      <td>...</td>\n      <td>...</td>\n    </tr>\n    <tr>\n      <th>608.680223</th>\n      <td>NaN</td>\n      <td>0.44</td>\n      <td>NaN</td>\n    </tr>\n    <tr>\n      <th>608.686457</th>\n      <td>NaN</td>\n      <td>0.44</td>\n      <td>NaN</td>\n    </tr>\n    <tr>\n      <th>608.725244</th>\n      <td>NaN</td>\n      <td>0.44</td>\n      <td>NaN</td>\n    </tr>\n    <tr>\n      <th>608.735164</th>\n      <td>NaN</td>\n      <td>0.44</td>\n      <td>NaN</td>\n    </tr>\n    <tr>\n      <th>608.813281</th>\n      <td>NaN</td>\n      <td>0.44</td>\n      <td>NaN</td>\n    </tr>\n  </tbody>\n</table>\n<p>54360 rows × 3 columns</p>\n</div>"
     },
     "execution_count": 235,
     "metadata": {},
     "output_type": "execute_result"
    }
   ],
   "source": [
    "final_data_slot1"
   ],
   "metadata": {
    "collapsed": false,
    "pycharm": {
     "name": "#%%\n"
    }
   }
  },
  {
   "cell_type": "code",
   "execution_count": 236,
   "outputs": [],
   "source": [
    "final_data_slot1 = final_data_slot1.replace(np.nan, '', regex=True)"
   ],
   "metadata": {
    "collapsed": false,
    "pycharm": {
     "name": "#%%\n"
    }
   }
  },
  {
   "cell_type": "code",
   "execution_count": 237,
   "outputs": [
    {
     "data": {
      "text/plain": "           fp_N_50_slot_0.02 fp_N_100_slot_0.02 fp_N_150_slot_0.02\nt                                                                 \n0.000000                 0.0                0.0                0.0\n0.007151                                                       0.0\n0.008734                                                       0.0\n0.010058                                                       0.0\n0.013595                                    0.0                   \n...                      ...                ...                ...\n608.680223                                 0.44                   \n608.686457                                 0.44                   \n608.725244                                 0.44                   \n608.735164                                 0.44                   \n608.813281                                 0.44                   \n\n[54360 rows x 3 columns]",
      "text/html": "<div>\n<style scoped>\n    .dataframe tbody tr th:only-of-type {\n        vertical-align: middle;\n    }\n\n    .dataframe tbody tr th {\n        vertical-align: top;\n    }\n\n    .dataframe thead th {\n        text-align: right;\n    }\n</style>\n<table border=\"1\" class=\"dataframe\">\n  <thead>\n    <tr style=\"text-align: right;\">\n      <th></th>\n      <th>fp_N_50_slot_0.02</th>\n      <th>fp_N_100_slot_0.02</th>\n      <th>fp_N_150_slot_0.02</th>\n    </tr>\n    <tr>\n      <th>t</th>\n      <th></th>\n      <th></th>\n      <th></th>\n    </tr>\n  </thead>\n  <tbody>\n    <tr>\n      <th>0.000000</th>\n      <td>0.0</td>\n      <td>0.0</td>\n      <td>0.0</td>\n    </tr>\n    <tr>\n      <th>0.007151</th>\n      <td></td>\n      <td></td>\n      <td>0.0</td>\n    </tr>\n    <tr>\n      <th>0.008734</th>\n      <td></td>\n      <td></td>\n      <td>0.0</td>\n    </tr>\n    <tr>\n      <th>0.010058</th>\n      <td></td>\n      <td></td>\n      <td>0.0</td>\n    </tr>\n    <tr>\n      <th>0.013595</th>\n      <td></td>\n      <td>0.0</td>\n      <td></td>\n    </tr>\n    <tr>\n      <th>...</th>\n      <td>...</td>\n      <td>...</td>\n      <td>...</td>\n    </tr>\n    <tr>\n      <th>608.680223</th>\n      <td></td>\n      <td>0.44</td>\n      <td></td>\n    </tr>\n    <tr>\n      <th>608.686457</th>\n      <td></td>\n      <td>0.44</td>\n      <td></td>\n    </tr>\n    <tr>\n      <th>608.725244</th>\n      <td></td>\n      <td>0.44</td>\n      <td></td>\n    </tr>\n    <tr>\n      <th>608.735164</th>\n      <td></td>\n      <td>0.44</td>\n      <td></td>\n    </tr>\n    <tr>\n      <th>608.813281</th>\n      <td></td>\n      <td>0.44</td>\n      <td></td>\n    </tr>\n  </tbody>\n</table>\n<p>54360 rows × 3 columns</p>\n</div>"
     },
     "execution_count": 237,
     "metadata": {},
     "output_type": "execute_result"
    }
   ],
   "source": [
    "final_data_slot1"
   ],
   "metadata": {
    "collapsed": false,
    "pycharm": {
     "name": "#%%\n"
    }
   }
  },
  {
   "cell_type": "code",
   "execution_count": 238,
   "outputs": [],
   "source": [
    "final_data_slot1.to_csv(f\"resources/graphs/fpVStime_slot_0.02.csv\")"
   ],
   "metadata": {
    "collapsed": false,
    "pycharm": {
     "name": "#%%\n"
    }
   }
  },
  {
   "cell_type": "code",
   "execution_count": 239,
   "outputs": [
    {
     "data": {
      "text/plain": "             fp_N_100_slot_0.01  fp_N_100_slot_0.02  fp_N_100_slot_0.05\nt                                                                      \n0.000000                    0.0                 0.0                 0.0\n0.005852                    NaN                 NaN                 NaN\n0.007151                    NaN                 NaN                 NaN\n0.008734                    NaN                 NaN                 NaN\n0.009327                    NaN                 NaN                 0.0\n...                         ...                 ...                 ...\n1065.687803                 NaN                 NaN                 NaN\n1065.722071                 NaN                 NaN                 NaN\n1065.839732                 NaN                 NaN                 NaN\n1065.950404                 NaN                 NaN                 NaN\n1066.018727                 NaN                 NaN                 NaN\n\n[142039 rows x 3 columns]",
      "text/html": "<div>\n<style scoped>\n    .dataframe tbody tr th:only-of-type {\n        vertical-align: middle;\n    }\n\n    .dataframe tbody tr th {\n        vertical-align: top;\n    }\n\n    .dataframe thead th {\n        text-align: right;\n    }\n</style>\n<table border=\"1\" class=\"dataframe\">\n  <thead>\n    <tr style=\"text-align: right;\">\n      <th></th>\n      <th>fp_N_100_slot_0.01</th>\n      <th>fp_N_100_slot_0.02</th>\n      <th>fp_N_100_slot_0.05</th>\n    </tr>\n    <tr>\n      <th>t</th>\n      <th></th>\n      <th></th>\n      <th></th>\n    </tr>\n  </thead>\n  <tbody>\n    <tr>\n      <th>0.000000</th>\n      <td>0.0</td>\n      <td>0.0</td>\n      <td>0.0</td>\n    </tr>\n    <tr>\n      <th>0.005852</th>\n      <td>NaN</td>\n      <td>NaN</td>\n      <td>NaN</td>\n    </tr>\n    <tr>\n      <th>0.007151</th>\n      <td>NaN</td>\n      <td>NaN</td>\n      <td>NaN</td>\n    </tr>\n    <tr>\n      <th>0.008734</th>\n      <td>NaN</td>\n      <td>NaN</td>\n      <td>NaN</td>\n    </tr>\n    <tr>\n      <th>0.009327</th>\n      <td>NaN</td>\n      <td>NaN</td>\n      <td>0.0</td>\n    </tr>\n    <tr>\n      <th>...</th>\n      <td>...</td>\n      <td>...</td>\n      <td>...</td>\n    </tr>\n    <tr>\n      <th>1065.687803</th>\n      <td>NaN</td>\n      <td>NaN</td>\n      <td>NaN</td>\n    </tr>\n    <tr>\n      <th>1065.722071</th>\n      <td>NaN</td>\n      <td>NaN</td>\n      <td>NaN</td>\n    </tr>\n    <tr>\n      <th>1065.839732</th>\n      <td>NaN</td>\n      <td>NaN</td>\n      <td>NaN</td>\n    </tr>\n    <tr>\n      <th>1065.950404</th>\n      <td>NaN</td>\n      <td>NaN</td>\n      <td>NaN</td>\n    </tr>\n    <tr>\n      <th>1066.018727</th>\n      <td>NaN</td>\n      <td>NaN</td>\n      <td>NaN</td>\n    </tr>\n  </tbody>\n</table>\n<p>142039 rows × 3 columns</p>\n</div>"
     },
     "execution_count": 239,
     "metadata": {},
     "output_type": "execute_result"
    }
   ],
   "source": [
    "n1 = [x for x in columns if x not in ['t','fp_N_100_slot_0.01','fp_N_100_slot_0.02','fp_N_100_slot_0.05']]\n",
    "final_data_n1 = final_data.drop(columns=n1)\n",
    "final_data_n1"
   ],
   "metadata": {
    "collapsed": false,
    "pycharm": {
     "name": "#%%\n"
    }
   }
  },
  {
   "cell_type": "code",
   "execution_count": 240,
   "outputs": [],
   "source": [
    "final_data_n1 = final_data_n1.dropna(axis=0, how='all')"
   ],
   "metadata": {
    "collapsed": false,
    "pycharm": {
     "name": "#%%\n"
    }
   }
  },
  {
   "cell_type": "code",
   "execution_count": 241,
   "outputs": [],
   "source": [
    "final_data_n1 = final_data_n1.replace(np.nan, '', regex=True)"
   ],
   "metadata": {
    "collapsed": false,
    "pycharm": {
     "name": "#%%\n"
    }
   }
  },
  {
   "cell_type": "code",
   "execution_count": 242,
   "outputs": [],
   "source": [
    "final_data_n1.to_csv(f\"resources/graphs/fpVStime_N_100.csv\")"
   ],
   "metadata": {
    "collapsed": false,
    "pycharm": {
     "name": "#%%\n"
    }
   }
  },
  {
   "cell_type": "code",
   "execution_count": 242,
   "outputs": [],
   "source": [],
   "metadata": {
    "collapsed": false,
    "pycharm": {
     "name": "#%%\n"
    }
   }
  }
 ],
 "metadata": {
  "kernelspec": {
   "display_name": "Python 3",
   "language": "python",
   "name": "python3"
  },
  "language_info": {
   "codemirror_mode": {
    "name": "ipython",
    "version": 2
   },
   "file_extension": ".py",
   "mimetype": "text/x-python",
   "name": "python",
   "nbconvert_exporter": "python",
   "pygments_lexer": "ipython2",
   "version": "2.7.6"
  }
 },
 "nbformat": 4,
 "nbformat_minor": 0
}