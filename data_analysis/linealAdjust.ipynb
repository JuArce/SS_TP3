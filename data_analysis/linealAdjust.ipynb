{
 "cells": [
  {
   "cell_type": "code",
   "execution_count": null,
   "metadata": {
    "collapsed": true,
    "pycharm": {
     "name": "#%%\n"
    }
   },
   "outputs": [],
   "source": [
    "import csv\n",
    "import pandas as pd\n",
    "\n",
    "points = []\n",
    "slopes = []\n",
    "errors = []\n",
    "pressures = [0.254983, 1.015029, 6.340735]\n",
    "energies = [0.000049, 0.000199, 0.001249]\n",
    "\n",
    "delta_slope = 100\n",
    "\n",
    "initial_slope = int((pressures[-1] - pressures[0]) / (energies[-1] - energies[0]))\n",
    "\n",
    "for slope in range(initial_slope - delta_slope, initial_slope + delta_slope):\n",
    "    e = 0\n",
    "    for i in range(0, len(pressures)):\n",
    "        e += (pressures[i] - slope * energies[i]) ** 2\n",
    "    slopes.append(slope)\n",
    "    errors.append(e)"
   ]
  },
  {
   "cell_type": "code",
   "execution_count": null,
   "outputs": [],
   "source": [
    "d = {'x': slopes, 'y': errors}\n",
    "df = pd.DataFrame(d)\n",
    "df.to_csv(\"resources/lineal.csv\")"
   ],
   "metadata": {
    "collapsed": false,
    "pycharm": {
     "name": "#%%\n"
    }
   }
  }
 ],
 "metadata": {
  "kernelspec": {
   "display_name": "Python 3",
   "language": "python",
   "name": "python3"
  },
  "language_info": {
   "codemirror_mode": {
    "name": "ipython",
    "version": 2
   },
   "file_extension": ".py",
   "mimetype": "text/x-python",
   "name": "python",
   "nbconvert_exporter": "python",
   "pygments_lexer": "ipython2",
   "version": "2.7.6"
  }
 },
 "nbformat": 4,
 "nbformat_minor": 0
}